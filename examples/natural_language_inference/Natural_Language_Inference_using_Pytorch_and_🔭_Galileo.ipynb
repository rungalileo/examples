{
  "cells": [
    {
      "cell_type": "markdown",
      "metadata": {
        "id": "j5JVjGAAJOTn"
      },
      "source": [
        "# Natural Language Inference using Pytorch and 🔭 Galileo\n",
        "\n",
        "In this tutorial, we'll train a model with PyTorch and explore the results in Galileo.\n",
        "\n",
        "**Make sure to select GPU in your Runtime! (Runtime -> Change Runtime type)**"
      ]
    },
    {
      "cell_type": "code",
      "execution_count": null,
      "metadata": {
        "cellView": "form",
        "id": "UfMcPbg19uz1"
      },
      "outputs": [],
      "source": [
        "#@title Install `dataquality`\n",
        "\n",
        "# Upgrade pip\n",
        "!pip install -U pip &> /dev/null\n",
        "\n",
        "# Install all dependecies\n",
        "!pip install -U dataquality torch torchmetrics==0.10.0 datasets transformers &> /dev/null\n",
        "\n",
        "print('👋 Installed necessary libraries.')\n"
      ]
    },
    {
      "attachments": {},
      "cell_type": "markdown",
      "metadata": {
        "id": "Gnu1QGKgOoko"
      },
      "source": [
        "# 1. Initialize Galileo"
      ]
    },
    {
      "cell_type": "code",
      "execution_count": null,
      "metadata": {
        "id": "bFekFQHZORCo"
      },
      "outputs": [],
      "source": [
        "import dataquality as dq\n",
        "# 🔭🌕 Galileo logging\n",
        "dq.init(task_type=\"text_classification\", \n",
        "        project_name=\"natural_language_inference_pytorch\", \n",
        "        run_name=f\"example_run_nli_torch_1\")"
      ]
    },
    {
      "cell_type": "markdown",
      "metadata": {
        "id": "dOKPfMhYvgeL"
      },
      "source": [
        "# 2. Load Data"
      ]
    },
    {
      "cell_type": "code",
      "execution_count": null,
      "metadata": {
        "cellView": "form",
        "id": "6Y2xrq_ZOaqk"
      },
      "outputs": [],
      "source": [
        "#@title 🤗 HuggingFace Dataset\n",
        "#@markdown You can select any dataset from [here](https://huggingface.co/datasets?language=language:en&task_categories=task_categories:text-classification&task_ids=task_ids:natural-language-inference&sort=downloads) which contains the columns `premise` and `hypothesis`.\n",
        "\n",
        "dataset_name = 'hans' #@param [\"snli\", \"sem_eval_2014_task_1\", \"hans\"] {allow-input: true}\n",
        "print(f\"You selected the {dataset_name} dataset\")\n",
        "\n",
        "from IPython.utils import io\n",
        "from datasets import load_dataset, get_dataset_config_names\n",
        "\n",
        "# Try to load the data. If a config (subset) is needed, pick one\n",
        "try:\n",
        "  with io.capture_output() as captured:\n",
        "    data = load_dataset(dataset_name)\n",
        "except ValueError as e:\n",
        "  if \"Config name is missing\" not in repr(e):\n",
        "    raise e\n",
        "\n",
        "  configs = get_dataset_config_names(dataset_name)\n",
        "  print(f\"The dataset {dataset_name} has multiple subsets {configs}.\")\n",
        "  config = input(f\"🖖 Enter the name of the subset to pick (or leave blank for any): \")\n",
        "  if config:\n",
        "    assert config in configs, f\"{config} is not a valid subset\"\n",
        "  else:\n",
        "    config = configs[0]\n",
        "  with io.capture_output() as captured:\n",
        "    data = load_dataset(dataset_name, name=config)\n",
        "\n",
        "# Check that the dataset has at least train and either of validation/test\n",
        "assert \"train\" in data and {\"validation\", \"test\"}.intersection(data), \\\n",
        "f\"💾 The dataset {dataset_name} has either no train, or no validation or test splits, select another one.\"\n",
        "\n",
        "print(f\"\\n🏆 Dataset {dataset_name} loaded succesfully\")\n",
        "\n",
        "# A small function for minimizing the dataset for testing\n",
        "import os\n",
        "\n",
        "def _minimize_for_ci() -> bool:\n",
        "    return os.getenv(\"MINIMIZE_FOR_CI\", \"false\") == \"true\""
      ]
    },
    {
      "cell_type": "code",
      "execution_count": null,
      "metadata": {
        "cellView": "form",
        "id": "u3yKR4e9d3xa"
      },
      "outputs": [],
      "source": [
        "#@markdown Convert HF dataset to Pandas dataframes \n",
        "import pandas as pd\n",
        "\n",
        "def load_pandas_df(data):\n",
        "  # Find the name of the ground truth column\n",
        "  good_col_names = [name for name in list(data['train'].features) if \"label\" in name]\n",
        "  if len(good_col_names) == 1:\n",
        "    label_col = good_col_names[0]\n",
        "  else:\n",
        "    col_names = list(data['train'].features)\n",
        "    print(f\"The name of the columns are {col_names}.\")\n",
        "    label_col = input(f\"🏅 Please enter the name of the column containing the labels: \")\n",
        "    assert label_col in col_names, f\"{label_col} is not an existing column\"\n",
        "\n",
        "  # Load the labels in a dictionary\n",
        "  labels = data['train'].features[label_col].names\n",
        "  labels = {v:k for v, k in enumerate(labels)}\n",
        "\n",
        "  # Load the train data into a frame\n",
        "  train_data = data[\"train\"]\n",
        "  train_df = pd.DataFrame.from_dict(train_data)\n",
        "  train_df['label'] = train_df[label_col].map(labels)\n",
        "  train_df['id'] = train_df.index\n",
        "  train_df['text'] = train_df['premise'] + \"  <>  \" + train_df['hypothesis']\n",
        "\n",
        "  # Load the test data into a frame\n",
        "  test_split_name = \"validation\" if \"validation\" in data else \"test\"\n",
        "  test_data = data[test_split_name]\n",
        "  test_df = pd.DataFrame.from_dict(test_data)\n",
        "  test_df['label'] = test_df[label_col].map(labels)\n",
        "  test_df['id'] = test_df.index\n",
        "  test_df['text'] = test_df['premise'] + \"  <>  \" + test_df['hypothesis']\n",
        "  \n",
        "  return train_df, test_df\n",
        "\n",
        "train_df, test_df = load_pandas_df(data)\n",
        "labels = train_df.label.unique().tolist()\n",
        "\n",
        "if _minimize_for_ci():\n",
        "  train_df, test_df = train_df[:10], test_df[:10]"
      ]
    },
    {
      "attachments": {},
      "cell_type": "markdown",
      "metadata": {
        "id": "6zJHmvxTJ2pN"
      },
      "source": [
        "# 3. Log input data with Galileo\n",
        "Input data can be logged via `log_data_samples` (or `log_dataset` for logging iterables). This step will log input samples, gold labels, data split, and list of all labels. You can achieve this by adding 1 line of code to the standard PyTorch Dataset Class."
      ]
    },
    {
      "cell_type": "code",
      "execution_count": null,
      "metadata": {
        "id": "FX8KsPk_m6Au"
      },
      "outputs": [],
      "source": [
        "import numpy as np\n",
        "import torch\n",
        "from transformers import AutoTokenizer\n",
        "from typing import List\n",
        "\n",
        "list_of_labels = train_df[\"label\"].unique().tolist()\n",
        "\n",
        "# 🔭🌕 Galileo logging\n",
        "dq.set_labels_for_run(list_of_labels)\n",
        "\n",
        "class TextDataset(torch.utils.data.Dataset):\n",
        "    def __init__(\n",
        "        self, dataset: pd.DataFrame, split: str, list_of_labels: List[str] = None\n",
        "    ):\n",
        "        self.dataset = dataset\n",
        "\n",
        "        # 🔭🌕 Galileo logging\n",
        "        # Note: this works seamlessly because self.dataset has text, label, and\n",
        "        # id columns. See `help(dq.log_dataset)` for more info\n",
        "        dq.log_dataset(self.dataset, split=split)\n",
        "\n",
        "        tokenizer = AutoTokenizer.from_pretrained(\"distilbert-base-uncased\")\n",
        "        self.encodings = tokenizer(\n",
        "            self.dataset[\"text\"].tolist(), truncation=True, padding=True\n",
        "        )\n",
        "\n",
        "        self.list_of_labels = list_of_labels or self.dataset[\"label\"].unique().tolist()\n",
        "\n",
        "        self.labels = np.array(\n",
        "            [self.list_of_labels.index(label) for label in self.dataset[\"label\"]]\n",
        "        )\n",
        "\n",
        "    def __getitem__(self, idx):\n",
        "        x = torch.tensor(self.encodings[\"input_ids\"][idx])\n",
        "        attention_mask = torch.tensor(self.encodings[\"attention_mask\"][idx])\n",
        "        y = self.labels[idx]\n",
        "        sample_idx = self.dataset.id.iloc[idx]\n",
        "        return sample_idx, x, attention_mask, y\n",
        "\n",
        "    def __len__(self):\n",
        "        return len(self.dataset)\n",
        "\n",
        "\n",
        "\n",
        "train_dataset = TextDataset(train_df, split=\"training\")\n",
        "test_dataset = TextDataset(\n",
        "    test_df, \n",
        "    split=\"validation\",\n",
        "    list_of_labels=train_dataset.list_of_labels,\n",
        ")\n",
        "\n"
      ]
    },
    {
      "attachments": {},
      "cell_type": "markdown",
      "metadata": {
        "id": "nMV9XnJaSg9j"
      },
      "source": [
        "# 4. Log model data with Galileo\n",
        "\n",
        "Model data can be logged via `log_model_outputs`. This step will log the model logits and embeddings. You can achieve this by adding 1 line of code to the standard pytorch model. \n",
        "\n",
        "We log [CLS]-token embedding from final layer, but you can log any custom layer for embeddings. "
      ]
    },
    {
      "cell_type": "code",
      "execution_count": null,
      "metadata": {
        "id": "7kvfEg4cnzTZ"
      },
      "outputs": [],
      "source": [
        "import torch\n",
        "import torch.nn.functional as F\n",
        "from torch.nn import Linear\n",
        "from transformers import AutoModel\n",
        "\n",
        "\n",
        "class TextClassificationModel(torch.nn.Module):\n",
        "    \"\"\"Defines a Pytorch text classification bert based model.\"\"\"\n",
        "\n",
        "    def __init__(self, num_labels: int):\n",
        "        super().__init__()\n",
        "        self.feature_extractor = AutoModel.from_pretrained(\"distilbert-base-uncased\")\n",
        "        self.classifier = Linear(self.feature_extractor.config.hidden_size, num_labels)\n",
        "\n",
        "    def forward(self, x, attention_mask, ids):\n",
        "        \"\"\"Model forward function.\"\"\"\n",
        "        encoded_layers = self.feature_extractor(\n",
        "            input_ids=x, attention_mask=attention_mask\n",
        "        ).last_hidden_state\n",
        "        classification_embedding = encoded_layers[:, 0]\n",
        "        logits = self.classifier(classification_embedding)\n",
        "\n",
        "        # 🔭🌕 Galileo logging\n",
        "        dq.log_model_outputs(\n",
        "            embs=classification_embedding, logits=logits, ids=ids\n",
        "        )\n",
        "\n",
        "        return logits"
      ]
    },
    {
      "attachments": {},
      "cell_type": "markdown",
      "metadata": {
        "id": "PnEeJN1IyMl0"
      },
      "source": [
        "# 5. Putting into Action: Training a Model\n",
        "\n",
        "We complete the training pipeline by using a standard PyTorch training setup. While training, we log the current `epoch` and `split`. To complete logging, we call `dq.finish()` after training."
      ]
    },
    {
      "cell_type": "code",
      "execution_count": null,
      "metadata": {
        "id": "-lRIh9U7oL2V"
      },
      "outputs": [],
      "source": [
        "import numpy as np\n",
        "import random\n",
        "import torch\n",
        "import torch.nn.functional as F\n",
        "import torchmetrics\n",
        "from tqdm.notebook import tqdm\n",
        "\n",
        "BATCH_SIZE = 32\n",
        "NUM_EPOCHS = 3\n",
        "\n",
        "device = torch.device(\"cuda\") if torch.cuda.is_available() else torch.device(\"cpu\")\n",
        "\n",
        "train_dataloader = torch.utils.data.DataLoader(\n",
        "    train_dataset, \n",
        "    batch_size=BATCH_SIZE, \n",
        "    shuffle=True,\n",
        ")\n",
        "val_dataloader = torch.utils.data.DataLoader(\n",
        "    test_dataset, \n",
        "    batch_size=BATCH_SIZE, \n",
        "    shuffle=False,\n",
        ")\n",
        "\n",
        "model = TextClassificationModel(num_labels=len(train_dataset.list_of_labels))\n",
        "model.to(device)\n",
        "\n",
        "optimizer = torch.optim.AdamW(\n",
        "    filter(lambda p: p.requires_grad, model.parameters()), lr=1e-5\n",
        ")\n",
        "\n",
        "train_acc = torchmetrics.Accuracy()\n",
        "val_acc = torchmetrics.Accuracy()\n",
        "\n",
        "for epoch in range(NUM_EPOCHS):\n",
        "    # 🔭🌕 Galileo logging\n",
        "    dq.set_epoch(epoch)\n",
        "\n",
        "    model.train()\n",
        "    running_loss = 0.0\n",
        "\n",
        "    # 🔭🌕 Galileo logging\n",
        "    dq.set_split(\"training\")\n",
        "\n",
        "    for data in tqdm(train_dataloader):\n",
        "        x_idxs, x, attention_mask, y = data\n",
        "        x = x.to(device)\n",
        "        attention_mask = attention_mask.to(device)\n",
        "        y = torch.tensor(y, device=device)\n",
        "\n",
        "        # zero the parameter gradients\n",
        "        optimizer.zero_grad()\n",
        "        # forward + backward + optimize\n",
        "        log_probs = model(x, attention_mask, x_idxs)\n",
        "        loss = F.nll_loss(log_probs, y)\n",
        "        loss.backward()\n",
        "        optimizer.step()\n",
        "\n",
        "        # print statistics\n",
        "        running_loss += loss.item()\n",
        "        train_acc(torch.argmax(log_probs.to(\"cpu\"), 1), y.to(\"cpu\"))\n",
        "\n",
        "    model.eval()\n",
        "    with torch.no_grad():\n",
        "        # 🔭🌕 Galileo logging\n",
        "        dq.set_split(\"validation\")\n",
        "\n",
        "        validation_loss = 0.0\n",
        "        for data in tqdm(val_dataloader):\n",
        "            x_idxs, x, attention_mask, y = data\n",
        "\n",
        "            x = x.to(device)\n",
        "            attention_mask = attention_mask.to(device)\n",
        "            y = torch.tensor(y, device=device)\n",
        "\n",
        "            log_probs = model(x, attention_mask, x_idxs)\n",
        "            loss = F.nll_loss(log_probs, y)\n",
        "\n",
        "            validation_loss += loss.item()\n",
        "            val_acc(torch.argmax(log_probs.to(\"cpu\"), 1), y.to(\"cpu\"))\n",
        "\n",
        "        print(\"[epoch %d] Validation loss: %.3f\" % (epoch + 1, validation_loss))\n",
        "        print(f\"Val accuracy: {val_acc.compute()}\")\n",
        "\n",
        "print(\"Finished Training\")\n",
        "\n",
        "# 🔭🌕 Galileo logging\n",
        "dq.finish()"
      ]
    },
    {
      "cell_type": "markdown",
      "metadata": {
        "id": "QkUoYnK0oFK_"
      },
      "source": [
        "# General Help and Docs\n",
        "- To get help with your task's requirements, call `dq.get_data_logger().doc()`\n",
        "- To see more general data and model logging docs, run `dq.docs()`"
      ]
    },
    {
      "cell_type": "code",
      "execution_count": null,
      "metadata": {
        "collapsed": true,
        "id": "V9o7ZwZVZIiM"
      },
      "outputs": [],
      "source": [
        "dq.get_data_logger().doc()\n",
        "help(dq.log_dataset)"
      ]
    }
  ],
  "metadata": {
    "accelerator": "GPU",
    "colab": {
      "collapsed_sections": [],
      "provenance": [
        {
          "file_id": "1IQ99tSgicpVpCrkhjTp-Dp_f2ucBhvy3",
          "timestamp": 1659469611341
        }
      ]
    },
    "gpuClass": "standard",
    "kernelspec": {
      "display_name": "Python 3.9.5 ('.venv': venv)",
      "language": "python",
      "name": "python3"
    },
    "language_info": {
      "name": "python",
      "version": "3.9.5"
    },
    "vscode": {
      "interpreter": {
        "hash": "0d47fb0f7b925a064d1c5a8fa81282dc8f4377d8a7fa5a29bcda49ac963d4dd1"
      }
    }
  },
  "nbformat": 4,
  "nbformat_minor": 0
}
