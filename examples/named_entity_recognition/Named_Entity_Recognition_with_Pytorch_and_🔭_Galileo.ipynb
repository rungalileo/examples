{
  "cells": [
    {
      "cell_type": "markdown",
      "metadata": {
        "id": "j5JVjGAAJOTn"
      },
      "source": [
        "# Named Entity Recognition with Pytorch and 🔭 Galileo\n",
        "\n",
        "In this tutorial, we'll train a model with PyTorch and explore the results in Galileo.\n",
        "\n",
        "**Make sure to select GPU in your Runtime! (Runtime -> Change Runtime type)**"
      ]
    },
    {
      "cell_type": "code",
      "execution_count": null,
      "metadata": {
        "cellView": "form",
        "id": "CO_8j8NVr6aF"
      },
      "outputs": [],
      "source": [
        "#@title Install `dataquality`\n",
        "\n",
        "# A small function for minimizing the dataset for testing\n",
        "import os\n",
        "\n",
        "def _minimize_for_ci() -> bool:\n",
        "    return os.getenv(\"MINIMIZE_FOR_CI\", \"false\") == \"true\"\n",
        "\n",
        "try:\n",
        "    import dataquality as dq\n",
        "except ImportError:\n",
        "    # Upgrade pip\n",
        "    !pip install -U pip &> /dev/null\n",
        "\n",
        "    # Install all dependecies\n",
        "    !pip install -U dataquality torch datasets transformers &> /dev/null\n",
        "    \n",
        "    print('👋 Installed necessary libraries and restarting runtime! This should only need to happen once.')\n",
        "    print('🙏 Continue with the rest of the notebook or hit \"Run All\" again!')\n",
        "\n",
        "    # Restart the runtime\n",
        "    import os, time\n",
        "    time.sleep(1) # gives the print statements time to flush\n",
        "    os._exit(0) # exits without allowing the next cell to run"
      ]
    },
    {
      "cell_type": "code",
      "execution_count": null,
      "metadata": {
        "id": "X7_i5cCyt12N"
      },
      "outputs": [],
      "source": [
        "import dataquality as dq\n",
        "dq.__version__"
      ]
    },
    {
      "cell_type": "markdown",
      "metadata": {
        "id": "9QyHXYMZJw3H"
      },
      "source": [
        "# 1. Login to Galileo"
      ]
    },
    {
      "cell_type": "code",
      "execution_count": null,
      "metadata": {
        "id": "pO6DdYFob5UV"
      },
      "outputs": [],
      "source": [
        "import dataquality as dq\n",
        "\n",
        "dq.login()"
      ]
    },
    {
      "cell_type": "markdown",
      "metadata": {
        "id": "dOKPfMhYvgeL"
      },
      "source": [
        "# 2. Load Data"
      ]
    },
    {
      "cell_type": "code",
      "execution_count": null,
      "metadata": {
        "cellView": "form",
        "id": "IXKeZqJRCakz"
      },
      "outputs": [],
      "source": [
        "#@title 🤗 HuggingFace Dataset\n",
        "#@markdown You can select any dataset from [here](https://huggingface.co/datasets?language=language:en&task_categories=task_categories:token-classification&task_ids=task_ids:named-entity-recognition&sort=downloads) which contains train/test splits and an `ner_tags` column.\n",
        "\n",
        "dataset_name = 'conllpp' #@param [\"wnut_17\", \"conllpp\", \"wikiann\"] {allow-input: true}\n",
        "print(f\"You selected the {dataset_name} dataset\")\n",
        "\n",
        "from IPython.utils import io\n",
        "from datasets import load_dataset, get_dataset_config_names\n",
        "\n",
        "# Try to load the data. If a config (subset) is needed, pick one\n",
        "try:\n",
        "  with io.capture_output() as captured:\n",
        "    data = load_dataset(dataset_name)\n",
        "except ValueError as e:\n",
        "  if \"Config name is missing\" not in repr(e):\n",
        "    raise e\n",
        "\n",
        "  configs = get_dataset_config_names(dataset_name)\n",
        "  print(f\"The dataset {dataset_name} has multiple subsets {configs}.\")\n",
        "  config = input(f\"🖖 Enter the name of the subset to pick (or leave blank for any): \")\n",
        "  if config:\n",
        "    assert config in configs, f\"{config} is not a valid subset\"\n",
        "  else:\n",
        "    config = configs[0]\n",
        "  with io.capture_output() as captured:\n",
        "    data = load_dataset(dataset_name, name=config)\n",
        "\n",
        "if _minimize_for_ci():\n",
        "  data[\"train\"] = data[\"train\"].select(range(10))\n",
        "  data[\"test\"] = data[\"test\"].select(range(10))\n",
        "\n",
        "# Check that the dataset has at least train and test splits\n",
        "assert {\"train\", \"test\"}.issubset(data), \\\n",
        "f\"💾 The dataset {dataset_name} does no have train/test splits, please pick another one.\"\n",
        "\n",
        "print(f\"\\n🏆 Dataset {dataset_name} loaded succesfully\")"
      ]
    },
    {
      "cell_type": "markdown",
      "metadata": {
        "id": "IggxTe4l6yCY"
      },
      "source": [
        "# 3. Initialize Galileo"
      ]
    },
    {
      "cell_type": "code",
      "execution_count": null,
      "metadata": {
        "id": "Zhh822b56xWE"
      },
      "outputs": [],
      "source": [
        "# 🔭🌕 Initializing a new run in Galileo. Each run goes under a project.\n",
        "dq.init(task_type=\"text_ner\", \n",
        "        project_name=\"named_entity_recognition_pytorch\", \n",
        "        run_name=f\"example_run_{dataset_name.replace('/','-')}\")"
      ]
    },
    {
      "cell_type": "markdown",
      "metadata": {
        "id": "lyMCfBzyvMzc"
      },
      "source": [
        "# 4. Tokenize and Log Dataset\n",
        "Galileo provides HF integrations to allow tokenization, and label alignment, while automatically logging your input data. Additionally, you can also use the `get_dataloader` function instead of PyTorch's native `DataLoader` to autoatically create a `Dataset` class, and prepare a dataset loader for each split.  "
      ]
    },
    {
      "cell_type": "code",
      "execution_count": null,
      "metadata": {
        "id": "u3yKR4e9d3xa"
      },
      "outputs": [],
      "source": [
        "import pandas as pd\n",
        "from transformers import DataCollatorForTokenClassification\n",
        "from dataquality.integrations import hf\n",
        "from transformers import AutoTokenizer\n",
        "\n",
        "tokenizer = AutoTokenizer.from_pretrained(\"distilbert-base-uncased\")\n",
        "data_collator = DataCollatorForTokenClassification(tokenizer)\n",
        "\n",
        "MINIBATCH_SIZE = 32\n",
        "NUM_EPOCHS = 5\n",
        "\n",
        "# 🔭🌕 Galileo tokenizes the HuggingFace DatasetDict logs the dataset(s) present in it\n",
        "tokenized_datasets = hf.tokenize_and_log_dataset(data, tokenizer)\n",
        "labels = tokenized_datasets['train'].features['ner_tags'].feature.names  \n",
        "\n",
        "train_dataloader = hf.get_dataloader(tokenized_datasets[\"train\"], collate_fn=data_collator, batch_size=MINIBATCH_SIZE, shuffle=True)\n",
        "test_dataloader = hf.get_dataloader(tokenized_datasets[\"test\"], collate_fn=data_collator, batch_size=MINIBATCH_SIZE, shuffle=False)"
      ]
    },
    {
      "cell_type": "markdown",
      "metadata": {
        "id": "2kqOV9V5wl4J"
      },
      "source": [
        "# 5. Prepare and Log NER Model \n",
        "\n",
        "One line of Galileo code to log the NER Model data (via `log_model_outputs`). This step logs the model logits and embeddings. "
      ]
    },
    {
      "cell_type": "code",
      "execution_count": null,
      "metadata": {
        "id": "mEVmYug7wqCc"
      },
      "outputs": [],
      "source": [
        "import torch\n",
        "\n",
        "class TokenClassificationModel(torch.nn.Module):\n",
        "  \"\"\"Defines a Pytorch text classification bert based model.\"\"\"\n",
        "\n",
        "  def __init__(self, num_labels: int):\n",
        "    super().__init__()\n",
        "    self.feature_extractor = AutoModel.from_pretrained(\"distilbert-base-uncased\")\n",
        "    self.classifier = Linear(self.feature_extractor.config.hidden_size, num_labels)\n",
        "\n",
        "  def forward(self, ids, x, attention_mask):\n",
        "    \"\"\"Model forward function.\"\"\"\n",
        "    encoded_layers = self.feature_extractor(\n",
        "        input_ids=x, attention_mask=attention_mask\n",
        "    ).last_hidden_state\n",
        "    logits = self.classifier(encoded_layers)\n",
        "\n",
        "    # 🔭🌕 Galileo logging\n",
        "    dq.log_model_outputs(\n",
        "        embs=encoded_layers[:, 1:, :], logits=logits[:, 1:, :], ids=ids\n",
        "    )\n",
        "    return logits"
      ]
    },
    {
      "cell_type": "markdown",
      "metadata": {
        "id": "nMV9XnJaSg9j"
      },
      "source": [
        "# 6. Putting into Action: Training a Model\n",
        "\n",
        "Complete the training pipeline using a standard PyTorch training setup. While training, Galileo logs the current `epoch` and `split`. \n",
        "\n",
        "Call `dq.finish()` after training to complete the logging."
      ]
    },
    {
      "cell_type": "code",
      "execution_count": null,
      "metadata": {
        "id": "7kvfEg4cnzTZ"
      },
      "outputs": [],
      "source": [
        "from torch.nn import CrossEntropyLoss\n",
        "import torch\n",
        "import torch.nn.functional as F\n",
        "from torch.nn import Linear\n",
        "from transformers import AutoModel\n",
        "from tqdm.notebook import tqdm\n",
        "\n",
        "device = torch.device(\"cuda\") if torch.cuda.is_available() else torch.device(\"cpu\")\n",
        "model = TokenClassificationModel(len(labels))\n",
        "model.to(device)\n",
        "print(device)\n",
        "optimizer = torch.optim.AdamW(filter(lambda p: p.requires_grad, model.parameters()), lr=5e-5)\n",
        "loss_fn = CrossEntropyLoss(ignore_index=-100)\n",
        "\n",
        "for epoch in tqdm(range(NUM_EPOCHS)):\n",
        "    # 🔭🌕 Galileo logging\n",
        "  dq.set_epoch(epoch)\n",
        "\n",
        "  model.train()\n",
        "  train_loss = 0.0\n",
        "  num_train_batches = 0\n",
        "  for train_minibatch in tqdm(train_dataloader):\n",
        "    optimizer.zero_grad()\n",
        "    # 🔭🌕 Galileo logging\n",
        "    dq.set_split(\"train\")\n",
        "    logits = model(train_minibatch[\"id\"], train_minibatch[\"input_ids\"].to(device),\n",
        "                    train_minibatch[\"attention_mask\"].to(device))\n",
        "    loss = loss_fn(logits.transpose(1, 2), torch.tensor(train_minibatch[\"labels\"]).to(device))\n",
        "    loss.backward()\n",
        "    optimizer.step()\n",
        "    train_loss += loss.item()\n",
        "    num_train_batches += 1\n",
        "    if num_train_batches % 50 == 0:\n",
        "      print('Loss', loss.item(), 'num_batch', num_train_batches)\n",
        "\n",
        "  with torch.no_grad(): \n",
        "    test_loss, num_test_batches = 0.0, 0\n",
        "    for test_minibatch in tqdm(test_dataloader):\n",
        "      # 🔭🌕 Galileo logging\n",
        "      dq.set_split(\"test\")\n",
        "      logits = model(test_minibatch[\"id\"], test_minibatch[\"input_ids\"].to(device), test_minibatch[\"attention_mask\"].to(device))\n",
        "      loss = loss_fn(logits.transpose(1, 2), torch.tensor(test_minibatch[\"labels\"].to(device)))\n",
        "      test_loss += loss.item()\n",
        "      num_test_batches += 1\n",
        "\n",
        "    print(f\"Finished with epoch {epoch}. Test Loss {test_loss / num_test_batches}\")\n",
        "\n",
        "# 🔭🌕 Galileo logging\n",
        "dq.finish()"
      ]
    },
    {
      "cell_type": "markdown",
      "metadata": {
        "id": "QkUoYnK0oFK_"
      },
      "source": [
        "# General Help and Docs\n",
        "- To get help with your task's requirements, call `dq.get_data_logger().doc()`\n",
        "- To see more general data and model logging docs, run `dq.docs()`"
      ]
    },
    {
      "cell_type": "code",
      "execution_count": null,
      "metadata": {
        "collapsed": true,
        "id": "V9o7ZwZVZIiM"
      },
      "outputs": [],
      "source": [
        "dq.get_data_logger().doc()\n",
        "help(dq.log_dataset)"
      ]
    }
  ],
  "metadata": {
    "accelerator": "GPU",
    "colab": {
      "collapsed_sections": [],
      "private_outputs": true,
      "provenance": [
        {
          "file_id": "1IQ99tSgicpVpCrkhjTp-Dp_f2ucBhvy3",
          "timestamp": 1659469611341
        }
      ]
    },
    "gpuClass": "standard",
    "kernelspec": {
      "display_name": "Python 3.9.5 ('.venv': venv)",
      "language": "python",
      "name": "python3"
    },
    "language_info": {
      "name": "python",
      "version": "3.9.5"
    },
    "vscode": {
      "interpreter": {
        "hash": "0d47fb0f7b925a064d1c5a8fa81282dc8f4377d8a7fa5a29bcda49ac963d4dd1"
      }
    }
  },
  "nbformat": 4,
  "nbformat_minor": 0
}
