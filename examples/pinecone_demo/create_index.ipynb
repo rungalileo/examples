{
 "cells": [
  {
   "cell_type": "code",
   "execution_count": 1,
   "metadata": {},
   "outputs": [
    {
     "name": "stdout",
     "output_type": "stream",
     "text": [
      "Defaulting to user installation because normal site-packages is not writeable\n",
      "Requirement already satisfied: pinecone-client in /Users/quique/Library/Python/3.9/lib/python/site-packages (3.0.2)\n",
      "Requirement already satisfied: pandas in /Users/quique/Library/Python/3.9/lib/python/site-packages (2.2.0)\n",
      "Requirement already satisfied: datasets in /Users/quique/Library/Python/3.9/lib/python/site-packages (2.17.0)\n",
      "Requirement already satisfied: certifi>=2019.11.17 in /Users/quique/Library/Python/3.9/lib/python/site-packages (from pinecone-client) (2023.7.22)\n",
      "Requirement already satisfied: tqdm>=4.64.1 in /Users/quique/Library/Python/3.9/lib/python/site-packages (from pinecone-client) (4.66.1)\n",
      "Requirement already satisfied: typing-extensions>=3.7.4 in /Users/quique/Library/Python/3.9/lib/python/site-packages (from pinecone-client) (4.8.0)\n",
      "Requirement already satisfied: urllib3>=1.26.0 in /Users/quique/Library/Python/3.9/lib/python/site-packages (from pinecone-client) (1.26.18)\n",
      "Requirement already satisfied: numpy<2,>=1.22.4 in /Users/quique/Library/Python/3.9/lib/python/site-packages (from pandas) (1.26.1)\n",
      "Requirement already satisfied: python-dateutil>=2.8.2 in /Users/quique/Library/Python/3.9/lib/python/site-packages (from pandas) (2.8.2)\n",
      "Requirement already satisfied: pytz>=2020.1 in /Users/quique/Library/Python/3.9/lib/python/site-packages (from pandas) (2023.3.post1)\n",
      "Requirement already satisfied: tzdata>=2022.7 in /Users/quique/Library/Python/3.9/lib/python/site-packages (from pandas) (2023.3)\n",
      "Requirement already satisfied: filelock in /Users/quique/Library/Python/3.9/lib/python/site-packages (from datasets) (3.13.1)\n",
      "Requirement already satisfied: pyarrow>=12.0.0 in /Users/quique/Library/Python/3.9/lib/python/site-packages (from datasets) (14.0.0)\n",
      "Requirement already satisfied: pyarrow-hotfix in /Users/quique/Library/Python/3.9/lib/python/site-packages (from datasets) (0.6)\n",
      "Requirement already satisfied: dill<0.3.9,>=0.3.0 in /Users/quique/Library/Python/3.9/lib/python/site-packages (from datasets) (0.3.7)\n",
      "Requirement already satisfied: requests>=2.19.0 in /Users/quique/Library/Python/3.9/lib/python/site-packages (from datasets) (2.31.0)\n",
      "Requirement already satisfied: xxhash in /Users/quique/Library/Python/3.9/lib/python/site-packages (from datasets) (3.4.1)\n",
      "Requirement already satisfied: multiprocess in /Users/quique/Library/Python/3.9/lib/python/site-packages (from datasets) (0.70.15)\n",
      "Requirement already satisfied: fsspec<=2023.10.0,>=2023.1.0 in /Users/quique/Library/Python/3.9/lib/python/site-packages (from fsspec[http]<=2023.10.0,>=2023.1.0->datasets) (2023.10.0)\n",
      "Requirement already satisfied: aiohttp in /Users/quique/Library/Python/3.9/lib/python/site-packages (from datasets) (3.8.6)\n",
      "Requirement already satisfied: huggingface-hub>=0.19.4 in /Users/quique/Library/Python/3.9/lib/python/site-packages (from datasets) (0.20.3)\n",
      "Requirement already satisfied: packaging in /Users/quique/Library/Python/3.9/lib/python/site-packages (from datasets) (23.2)\n",
      "Requirement already satisfied: pyyaml>=5.1 in /Users/quique/Library/Python/3.9/lib/python/site-packages (from datasets) (6.0.1)\n",
      "Requirement already satisfied: attrs>=17.3.0 in /Users/quique/Library/Python/3.9/lib/python/site-packages (from aiohttp->datasets) (23.1.0)\n",
      "Requirement already satisfied: charset-normalizer<4.0,>=2.0 in /Users/quique/Library/Python/3.9/lib/python/site-packages (from aiohttp->datasets) (3.3.2)\n",
      "Requirement already satisfied: multidict<7.0,>=4.5 in /Users/quique/Library/Python/3.9/lib/python/site-packages (from aiohttp->datasets) (6.0.4)\n",
      "Requirement already satisfied: async-timeout<5.0,>=4.0.0a3 in /Users/quique/Library/Python/3.9/lib/python/site-packages (from aiohttp->datasets) (4.0.3)\n",
      "Requirement already satisfied: yarl<2.0,>=1.0 in /Users/quique/Library/Python/3.9/lib/python/site-packages (from aiohttp->datasets) (1.9.2)\n",
      "Requirement already satisfied: frozenlist>=1.1.1 in /Users/quique/Library/Python/3.9/lib/python/site-packages (from aiohttp->datasets) (1.4.0)\n",
      "Requirement already satisfied: aiosignal>=1.1.2 in /Users/quique/Library/Python/3.9/lib/python/site-packages (from aiohttp->datasets) (1.3.1)\n",
      "Requirement already satisfied: six>=1.5 in /Library/Developer/CommandLineTools/Library/Frameworks/Python3.framework/Versions/3.9/lib/python3.9/site-packages (from python-dateutil>=2.8.2->pandas) (1.15.0)\n",
      "Requirement already satisfied: idna<4,>=2.5 in /Users/quique/Library/Python/3.9/lib/python/site-packages (from requests>=2.19.0->datasets) (3.4)\n",
      "Defaulting to user installation because normal site-packages is not writeable\n",
      "Requirement already satisfied: langchain in /Users/quique/Library/Python/3.9/lib/python/site-packages (0.0.330)\n",
      "Requirement already satisfied: PyYAML>=5.3 in /Users/quique/Library/Python/3.9/lib/python/site-packages (from langchain) (6.0.1)\n",
      "Requirement already satisfied: SQLAlchemy<3,>=1.4 in /Users/quique/Library/Python/3.9/lib/python/site-packages (from langchain) (2.0.23)\n",
      "Requirement already satisfied: aiohttp<4.0.0,>=3.8.3 in /Users/quique/Library/Python/3.9/lib/python/site-packages (from langchain) (3.8.6)\n",
      "Requirement already satisfied: anyio<4.0 in /Users/quique/Library/Python/3.9/lib/python/site-packages (from langchain) (3.7.1)\n",
      "Requirement already satisfied: async-timeout<5.0.0,>=4.0.0 in /Users/quique/Library/Python/3.9/lib/python/site-packages (from langchain) (4.0.3)\n",
      "Requirement already satisfied: dataclasses-json<0.7,>=0.5.7 in /Users/quique/Library/Python/3.9/lib/python/site-packages (from langchain) (0.6.1)\n",
      "Requirement already satisfied: jsonpatch<2.0,>=1.33 in /Users/quique/Library/Python/3.9/lib/python/site-packages (from langchain) (1.33)\n",
      "Requirement already satisfied: langsmith<0.1.0,>=0.0.52 in /Users/quique/Library/Python/3.9/lib/python/site-packages (from langchain) (0.0.87)\n",
      "Requirement already satisfied: numpy<2,>=1 in /Users/quique/Library/Python/3.9/lib/python/site-packages (from langchain) (1.26.1)\n",
      "Requirement already satisfied: pydantic<3,>=1 in /Users/quique/Library/Python/3.9/lib/python/site-packages (from langchain) (2.6.1)\n",
      "Requirement already satisfied: requests<3,>=2 in /Users/quique/Library/Python/3.9/lib/python/site-packages (from langchain) (2.31.0)\n",
      "Requirement already satisfied: tenacity<9.0.0,>=8.1.0 in /Users/quique/Library/Python/3.9/lib/python/site-packages (from langchain) (8.2.3)\n",
      "Requirement already satisfied: attrs>=17.3.0 in /Users/quique/Library/Python/3.9/lib/python/site-packages (from aiohttp<4.0.0,>=3.8.3->langchain) (23.1.0)\n",
      "Requirement already satisfied: charset-normalizer<4.0,>=2.0 in /Users/quique/Library/Python/3.9/lib/python/site-packages (from aiohttp<4.0.0,>=3.8.3->langchain) (3.3.2)\n",
      "Requirement already satisfied: multidict<7.0,>=4.5 in /Users/quique/Library/Python/3.9/lib/python/site-packages (from aiohttp<4.0.0,>=3.8.3->langchain) (6.0.4)\n",
      "Requirement already satisfied: yarl<2.0,>=1.0 in /Users/quique/Library/Python/3.9/lib/python/site-packages (from aiohttp<4.0.0,>=3.8.3->langchain) (1.9.2)\n",
      "Requirement already satisfied: frozenlist>=1.1.1 in /Users/quique/Library/Python/3.9/lib/python/site-packages (from aiohttp<4.0.0,>=3.8.3->langchain) (1.4.0)\n",
      "Requirement already satisfied: aiosignal>=1.1.2 in /Users/quique/Library/Python/3.9/lib/python/site-packages (from aiohttp<4.0.0,>=3.8.3->langchain) (1.3.1)\n",
      "Requirement already satisfied: idna>=2.8 in /Users/quique/Library/Python/3.9/lib/python/site-packages (from anyio<4.0->langchain) (3.4)\n",
      "Requirement already satisfied: sniffio>=1.1 in /Users/quique/Library/Python/3.9/lib/python/site-packages (from anyio<4.0->langchain) (1.3.0)\n",
      "Requirement already satisfied: exceptiongroup in /Users/quique/Library/Python/3.9/lib/python/site-packages (from anyio<4.0->langchain) (1.1.3)\n",
      "Requirement already satisfied: marshmallow<4.0.0,>=3.18.0 in /Users/quique/Library/Python/3.9/lib/python/site-packages (from dataclasses-json<0.7,>=0.5.7->langchain) (3.20.1)\n",
      "Requirement already satisfied: typing-inspect<1,>=0.4.0 in /Users/quique/Library/Python/3.9/lib/python/site-packages (from dataclasses-json<0.7,>=0.5.7->langchain) (0.9.0)\n",
      "Requirement already satisfied: jsonpointer>=1.9 in /Users/quique/Library/Python/3.9/lib/python/site-packages (from jsonpatch<2.0,>=1.33->langchain) (2.4)\n",
      "Requirement already satisfied: annotated-types>=0.4.0 in /Users/quique/Library/Python/3.9/lib/python/site-packages (from pydantic<3,>=1->langchain) (0.6.0)\n",
      "Requirement already satisfied: pydantic-core==2.16.2 in /Users/quique/Library/Python/3.9/lib/python/site-packages (from pydantic<3,>=1->langchain) (2.16.2)\n",
      "Requirement already satisfied: typing-extensions>=4.6.1 in /Users/quique/Library/Python/3.9/lib/python/site-packages (from pydantic<3,>=1->langchain) (4.8.0)\n",
      "Requirement already satisfied: urllib3<3,>=1.21.1 in /Users/quique/Library/Python/3.9/lib/python/site-packages (from requests<3,>=2->langchain) (1.26.18)\n",
      "Requirement already satisfied: certifi>=2017.4.17 in /Users/quique/Library/Python/3.9/lib/python/site-packages (from requests<3,>=2->langchain) (2023.7.22)\n",
      "Requirement already satisfied: packaging>=17.0 in /Users/quique/Library/Python/3.9/lib/python/site-packages (from marshmallow<4.0.0,>=3.18.0->dataclasses-json<0.7,>=0.5.7->langchain) (23.2)\n",
      "Requirement already satisfied: mypy-extensions>=0.3.0 in /Users/quique/Library/Python/3.9/lib/python/site-packages (from typing-inspect<1,>=0.4.0->dataclasses-json<0.7,>=0.5.7->langchain) (1.0.0)\n",
      "Defaulting to user installation because normal site-packages is not writeable\n",
      "Requirement already satisfied: langchain-community in /Users/quique/Library/Python/3.9/lib/python/site-packages (0.0.19)\n",
      "Requirement already satisfied: PyYAML>=5.3 in /Users/quique/Library/Python/3.9/lib/python/site-packages (from langchain-community) (6.0.1)\n",
      "Requirement already satisfied: SQLAlchemy<3,>=1.4 in /Users/quique/Library/Python/3.9/lib/python/site-packages (from langchain-community) (2.0.23)\n",
      "Requirement already satisfied: aiohttp<4.0.0,>=3.8.3 in /Users/quique/Library/Python/3.9/lib/python/site-packages (from langchain-community) (3.8.6)\n",
      "Requirement already satisfied: dataclasses-json<0.7,>=0.5.7 in /Users/quique/Library/Python/3.9/lib/python/site-packages (from langchain-community) (0.6.1)\n",
      "Requirement already satisfied: langchain-core<0.2,>=0.1.21 in /Users/quique/Library/Python/3.9/lib/python/site-packages (from langchain-community) (0.1.22)\n",
      "Requirement already satisfied: langsmith<0.1,>=0.0.83 in /Users/quique/Library/Python/3.9/lib/python/site-packages (from langchain-community) (0.0.87)\n",
      "Requirement already satisfied: numpy<2,>=1 in /Users/quique/Library/Python/3.9/lib/python/site-packages (from langchain-community) (1.26.1)\n",
      "Requirement already satisfied: requests<3,>=2 in /Users/quique/Library/Python/3.9/lib/python/site-packages (from langchain-community) (2.31.0)\n",
      "Requirement already satisfied: tenacity<9.0.0,>=8.1.0 in /Users/quique/Library/Python/3.9/lib/python/site-packages (from langchain-community) (8.2.3)\n",
      "Requirement already satisfied: attrs>=17.3.0 in /Users/quique/Library/Python/3.9/lib/python/site-packages (from aiohttp<4.0.0,>=3.8.3->langchain-community) (23.1.0)\n",
      "Requirement already satisfied: charset-normalizer<4.0,>=2.0 in /Users/quique/Library/Python/3.9/lib/python/site-packages (from aiohttp<4.0.0,>=3.8.3->langchain-community) (3.3.2)\n",
      "Requirement already satisfied: multidict<7.0,>=4.5 in /Users/quique/Library/Python/3.9/lib/python/site-packages (from aiohttp<4.0.0,>=3.8.3->langchain-community) (6.0.4)\n",
      "Requirement already satisfied: async-timeout<5.0,>=4.0.0a3 in /Users/quique/Library/Python/3.9/lib/python/site-packages (from aiohttp<4.0.0,>=3.8.3->langchain-community) (4.0.3)\n",
      "Requirement already satisfied: yarl<2.0,>=1.0 in /Users/quique/Library/Python/3.9/lib/python/site-packages (from aiohttp<4.0.0,>=3.8.3->langchain-community) (1.9.2)\n",
      "Requirement already satisfied: frozenlist>=1.1.1 in /Users/quique/Library/Python/3.9/lib/python/site-packages (from aiohttp<4.0.0,>=3.8.3->langchain-community) (1.4.0)\n",
      "Requirement already satisfied: aiosignal>=1.1.2 in /Users/quique/Library/Python/3.9/lib/python/site-packages (from aiohttp<4.0.0,>=3.8.3->langchain-community) (1.3.1)\n",
      "Requirement already satisfied: marshmallow<4.0.0,>=3.18.0 in /Users/quique/Library/Python/3.9/lib/python/site-packages (from dataclasses-json<0.7,>=0.5.7->langchain-community) (3.20.1)\n",
      "Requirement already satisfied: typing-inspect<1,>=0.4.0 in /Users/quique/Library/Python/3.9/lib/python/site-packages (from dataclasses-json<0.7,>=0.5.7->langchain-community) (0.9.0)\n",
      "Requirement already satisfied: anyio<5,>=3 in /Users/quique/Library/Python/3.9/lib/python/site-packages (from langchain-core<0.2,>=0.1.21->langchain-community) (3.7.1)\n",
      "Requirement already satisfied: jsonpatch<2.0,>=1.33 in /Users/quique/Library/Python/3.9/lib/python/site-packages (from langchain-core<0.2,>=0.1.21->langchain-community) (1.33)\n",
      "Requirement already satisfied: packaging<24.0,>=23.2 in /Users/quique/Library/Python/3.9/lib/python/site-packages (from langchain-core<0.2,>=0.1.21->langchain-community) (23.2)\n",
      "Requirement already satisfied: pydantic<3,>=1 in /Users/quique/Library/Python/3.9/lib/python/site-packages (from langchain-core<0.2,>=0.1.21->langchain-community) (2.6.1)\n",
      "Requirement already satisfied: idna<4,>=2.5 in /Users/quique/Library/Python/3.9/lib/python/site-packages (from requests<3,>=2->langchain-community) (3.4)\n",
      "Requirement already satisfied: urllib3<3,>=1.21.1 in /Users/quique/Library/Python/3.9/lib/python/site-packages (from requests<3,>=2->langchain-community) (1.26.18)\n",
      "Requirement already satisfied: certifi>=2017.4.17 in /Users/quique/Library/Python/3.9/lib/python/site-packages (from requests<3,>=2->langchain-community) (2023.7.22)\n",
      "Requirement already satisfied: typing-extensions>=4.2.0 in /Users/quique/Library/Python/3.9/lib/python/site-packages (from SQLAlchemy<3,>=1.4->langchain-community) (4.8.0)\n",
      "Requirement already satisfied: sniffio>=1.1 in /Users/quique/Library/Python/3.9/lib/python/site-packages (from anyio<5,>=3->langchain-core<0.2,>=0.1.21->langchain-community) (1.3.0)\n",
      "Requirement already satisfied: exceptiongroup in /Users/quique/Library/Python/3.9/lib/python/site-packages (from anyio<5,>=3->langchain-core<0.2,>=0.1.21->langchain-community) (1.1.3)\n",
      "Requirement already satisfied: jsonpointer>=1.9 in /Users/quique/Library/Python/3.9/lib/python/site-packages (from jsonpatch<2.0,>=1.33->langchain-core<0.2,>=0.1.21->langchain-community) (2.4)\n",
      "Requirement already satisfied: annotated-types>=0.4.0 in /Users/quique/Library/Python/3.9/lib/python/site-packages (from pydantic<3,>=1->langchain-core<0.2,>=0.1.21->langchain-community) (0.6.0)\n",
      "Requirement already satisfied: pydantic-core==2.16.2 in /Users/quique/Library/Python/3.9/lib/python/site-packages (from pydantic<3,>=1->langchain-core<0.2,>=0.1.21->langchain-community) (2.16.2)\n",
      "Requirement already satisfied: mypy-extensions>=0.3.0 in /Users/quique/Library/Python/3.9/lib/python/site-packages (from typing-inspect<1,>=0.4.0->dataclasses-json<0.7,>=0.5.7->langchain-community) (1.0.0)\n",
      "Defaulting to user installation because normal site-packages is not writeable\n",
      "Requirement already satisfied: langchain-openai in /Users/quique/Library/Python/3.9/lib/python/site-packages (0.0.5)\n",
      "Requirement already satisfied: langchain-core<0.2,>=0.1.16 in /Users/quique/Library/Python/3.9/lib/python/site-packages (from langchain-openai) (0.1.22)\n",
      "Requirement already satisfied: numpy<2,>=1 in /Users/quique/Library/Python/3.9/lib/python/site-packages (from langchain-openai) (1.26.1)\n",
      "Requirement already satisfied: openai<2.0.0,>=1.10.0 in /Users/quique/Library/Python/3.9/lib/python/site-packages (from langchain-openai) (1.12.0)\n",
      "Requirement already satisfied: tiktoken<0.6.0,>=0.5.2 in /Users/quique/Library/Python/3.9/lib/python/site-packages (from langchain-openai) (0.5.2)\n",
      "Requirement already satisfied: PyYAML>=5.3 in /Users/quique/Library/Python/3.9/lib/python/site-packages (from langchain-core<0.2,>=0.1.16->langchain-openai) (6.0.1)\n",
      "Requirement already satisfied: anyio<5,>=3 in /Users/quique/Library/Python/3.9/lib/python/site-packages (from langchain-core<0.2,>=0.1.16->langchain-openai) (3.7.1)\n",
      "Requirement already satisfied: jsonpatch<2.0,>=1.33 in /Users/quique/Library/Python/3.9/lib/python/site-packages (from langchain-core<0.2,>=0.1.16->langchain-openai) (1.33)\n",
      "Requirement already satisfied: langsmith<0.0.88,>=0.0.87 in /Users/quique/Library/Python/3.9/lib/python/site-packages (from langchain-core<0.2,>=0.1.16->langchain-openai) (0.0.87)\n",
      "Requirement already satisfied: packaging<24.0,>=23.2 in /Users/quique/Library/Python/3.9/lib/python/site-packages (from langchain-core<0.2,>=0.1.16->langchain-openai) (23.2)\n",
      "Requirement already satisfied: pydantic<3,>=1 in /Users/quique/Library/Python/3.9/lib/python/site-packages (from langchain-core<0.2,>=0.1.16->langchain-openai) (2.6.1)\n",
      "Requirement already satisfied: requests<3,>=2 in /Users/quique/Library/Python/3.9/lib/python/site-packages (from langchain-core<0.2,>=0.1.16->langchain-openai) (2.31.0)\n",
      "Requirement already satisfied: tenacity<9.0.0,>=8.1.0 in /Users/quique/Library/Python/3.9/lib/python/site-packages (from langchain-core<0.2,>=0.1.16->langchain-openai) (8.2.3)\n",
      "Requirement already satisfied: distro<2,>=1.7.0 in /Users/quique/Library/Python/3.9/lib/python/site-packages (from openai<2.0.0,>=1.10.0->langchain-openai) (1.9.0)\n",
      "Requirement already satisfied: httpx<1,>=0.23.0 in /Users/quique/Library/Python/3.9/lib/python/site-packages (from openai<2.0.0,>=1.10.0->langchain-openai) (0.25.1)\n",
      "Requirement already satisfied: sniffio in /Users/quique/Library/Python/3.9/lib/python/site-packages (from openai<2.0.0,>=1.10.0->langchain-openai) (1.3.0)\n",
      "Requirement already satisfied: tqdm>4 in /Users/quique/Library/Python/3.9/lib/python/site-packages (from openai<2.0.0,>=1.10.0->langchain-openai) (4.66.1)\n",
      "Requirement already satisfied: typing-extensions<5,>=4.7 in /Users/quique/Library/Python/3.9/lib/python/site-packages (from openai<2.0.0,>=1.10.0->langchain-openai) (4.8.0)\n",
      "Requirement already satisfied: regex>=2022.1.18 in /Users/quique/Library/Python/3.9/lib/python/site-packages (from tiktoken<0.6.0,>=0.5.2->langchain-openai) (2023.10.3)\n",
      "Requirement already satisfied: idna>=2.8 in /Users/quique/Library/Python/3.9/lib/python/site-packages (from anyio<5,>=3->langchain-core<0.2,>=0.1.16->langchain-openai) (3.4)\n",
      "Requirement already satisfied: exceptiongroup in /Users/quique/Library/Python/3.9/lib/python/site-packages (from anyio<5,>=3->langchain-core<0.2,>=0.1.16->langchain-openai) (1.1.3)\n",
      "Requirement already satisfied: certifi in /Users/quique/Library/Python/3.9/lib/python/site-packages (from httpx<1,>=0.23.0->openai<2.0.0,>=1.10.0->langchain-openai) (2023.7.22)\n",
      "Requirement already satisfied: httpcore in /Users/quique/Library/Python/3.9/lib/python/site-packages (from httpx<1,>=0.23.0->openai<2.0.0,>=1.10.0->langchain-openai) (1.0.1)\n",
      "Requirement already satisfied: jsonpointer>=1.9 in /Users/quique/Library/Python/3.9/lib/python/site-packages (from jsonpatch<2.0,>=1.33->langchain-core<0.2,>=0.1.16->langchain-openai) (2.4)\n",
      "Requirement already satisfied: annotated-types>=0.4.0 in /Users/quique/Library/Python/3.9/lib/python/site-packages (from pydantic<3,>=1->langchain-core<0.2,>=0.1.16->langchain-openai) (0.6.0)\n",
      "Requirement already satisfied: pydantic-core==2.16.2 in /Users/quique/Library/Python/3.9/lib/python/site-packages (from pydantic<3,>=1->langchain-core<0.2,>=0.1.16->langchain-openai) (2.16.2)\n",
      "Requirement already satisfied: charset-normalizer<4,>=2 in /Users/quique/Library/Python/3.9/lib/python/site-packages (from requests<3,>=2->langchain-core<0.2,>=0.1.16->langchain-openai) (3.3.2)\n",
      "Requirement already satisfied: urllib3<3,>=1.21.1 in /Users/quique/Library/Python/3.9/lib/python/site-packages (from requests<3,>=2->langchain-core<0.2,>=0.1.16->langchain-openai) (1.26.18)\n",
      "Requirement already satisfied: h11<0.15,>=0.13 in /Users/quique/Library/Python/3.9/lib/python/site-packages (from httpcore->httpx<1,>=0.23.0->openai<2.0.0,>=1.10.0->langchain-openai) (0.14.0)\n",
      "Defaulting to user installation because normal site-packages is not writeable\n",
      "Requirement already satisfied: spacy in /Users/quique/Library/Python/3.9/lib/python/site-packages (3.7.2)\n",
      "Requirement already satisfied: spacy-legacy<3.1.0,>=3.0.11 in /Users/quique/Library/Python/3.9/lib/python/site-packages (from spacy) (3.0.12)\n",
      "Requirement already satisfied: spacy-loggers<2.0.0,>=1.0.0 in /Users/quique/Library/Python/3.9/lib/python/site-packages (from spacy) (1.0.5)\n",
      "Requirement already satisfied: murmurhash<1.1.0,>=0.28.0 in /Users/quique/Library/Python/3.9/lib/python/site-packages (from spacy) (1.0.10)\n",
      "Requirement already satisfied: cymem<2.1.0,>=2.0.2 in /Users/quique/Library/Python/3.9/lib/python/site-packages (from spacy) (2.0.8)\n",
      "Requirement already satisfied: preshed<3.1.0,>=3.0.2 in /Users/quique/Library/Python/3.9/lib/python/site-packages (from spacy) (3.0.9)\n",
      "Requirement already satisfied: thinc<8.3.0,>=8.1.8 in /Users/quique/Library/Python/3.9/lib/python/site-packages (from spacy) (8.2.3)\n",
      "Requirement already satisfied: wasabi<1.2.0,>=0.9.1 in /Users/quique/Library/Python/3.9/lib/python/site-packages (from spacy) (1.1.2)\n",
      "Requirement already satisfied: srsly<3.0.0,>=2.4.3 in /Users/quique/Library/Python/3.9/lib/python/site-packages (from spacy) (2.4.8)\n",
      "Requirement already satisfied: catalogue<2.1.0,>=2.0.6 in /Users/quique/Library/Python/3.9/lib/python/site-packages (from spacy) (2.0.10)\n",
      "Requirement already satisfied: weasel<0.4.0,>=0.1.0 in /Users/quique/Library/Python/3.9/lib/python/site-packages (from spacy) (0.3.4)\n",
      "Requirement already satisfied: typer<0.10.0,>=0.3.0 in /Users/quique/Library/Python/3.9/lib/python/site-packages (from spacy) (0.9.0)\n",
      "Requirement already satisfied: smart-open<7.0.0,>=5.2.1 in /Users/quique/Library/Python/3.9/lib/python/site-packages (from spacy) (6.4.0)\n",
      "Requirement already satisfied: tqdm<5.0.0,>=4.38.0 in /Users/quique/Library/Python/3.9/lib/python/site-packages (from spacy) (4.66.1)\n",
      "Requirement already satisfied: requests<3.0.0,>=2.13.0 in /Users/quique/Library/Python/3.9/lib/python/site-packages (from spacy) (2.31.0)\n",
      "Requirement already satisfied: pydantic!=1.8,!=1.8.1,<3.0.0,>=1.7.4 in /Users/quique/Library/Python/3.9/lib/python/site-packages (from spacy) (2.6.1)\n",
      "Requirement already satisfied: jinja2 in /Users/quique/Library/Python/3.9/lib/python/site-packages (from spacy) (3.1.2)\n",
      "Requirement already satisfied: setuptools in /Users/quique/Library/Python/3.9/lib/python/site-packages (from spacy) (69.0.3)\n",
      "Requirement already satisfied: packaging>=20.0 in /Users/quique/Library/Python/3.9/lib/python/site-packages (from spacy) (23.2)\n",
      "Requirement already satisfied: langcodes<4.0.0,>=3.2.0 in /Users/quique/Library/Python/3.9/lib/python/site-packages (from spacy) (3.3.0)\n",
      "Requirement already satisfied: numpy>=1.19.0 in /Users/quique/Library/Python/3.9/lib/python/site-packages (from spacy) (1.26.1)\n",
      "Requirement already satisfied: annotated-types>=0.4.0 in /Users/quique/Library/Python/3.9/lib/python/site-packages (from pydantic!=1.8,!=1.8.1,<3.0.0,>=1.7.4->spacy) (0.6.0)\n",
      "Requirement already satisfied: pydantic-core==2.16.2 in /Users/quique/Library/Python/3.9/lib/python/site-packages (from pydantic!=1.8,!=1.8.1,<3.0.0,>=1.7.4->spacy) (2.16.2)\n",
      "Requirement already satisfied: typing-extensions>=4.6.1 in /Users/quique/Library/Python/3.9/lib/python/site-packages (from pydantic!=1.8,!=1.8.1,<3.0.0,>=1.7.4->spacy) (4.8.0)\n",
      "Requirement already satisfied: charset-normalizer<4,>=2 in /Users/quique/Library/Python/3.9/lib/python/site-packages (from requests<3.0.0,>=2.13.0->spacy) (3.3.2)\n",
      "Requirement already satisfied: idna<4,>=2.5 in /Users/quique/Library/Python/3.9/lib/python/site-packages (from requests<3.0.0,>=2.13.0->spacy) (3.4)\n",
      "Requirement already satisfied: urllib3<3,>=1.21.1 in /Users/quique/Library/Python/3.9/lib/python/site-packages (from requests<3.0.0,>=2.13.0->spacy) (1.26.18)\n",
      "Requirement already satisfied: certifi>=2017.4.17 in /Users/quique/Library/Python/3.9/lib/python/site-packages (from requests<3.0.0,>=2.13.0->spacy) (2023.7.22)\n",
      "Requirement already satisfied: blis<0.8.0,>=0.7.8 in /Users/quique/Library/Python/3.9/lib/python/site-packages (from thinc<8.3.0,>=8.1.8->spacy) (0.7.11)\n",
      "Requirement already satisfied: confection<1.0.0,>=0.0.1 in /Users/quique/Library/Python/3.9/lib/python/site-packages (from thinc<8.3.0,>=8.1.8->spacy) (0.1.4)\n",
      "Requirement already satisfied: click<9.0.0,>=7.1.1 in /Users/quique/Library/Python/3.9/lib/python/site-packages (from typer<0.10.0,>=0.3.0->spacy) (8.1.7)\n",
      "Requirement already satisfied: cloudpathlib<0.17.0,>=0.7.0 in /Users/quique/Library/Python/3.9/lib/python/site-packages (from weasel<0.4.0,>=0.1.0->spacy) (0.16.0)\n",
      "Requirement already satisfied: MarkupSafe>=2.0 in /Users/quique/Library/Python/3.9/lib/python/site-packages (from jinja2->spacy) (2.1.3)\n",
      "Defaulting to user installation because normal site-packages is not writeable\n",
      "Requirement already satisfied: python-dotenv in /Users/quique/Library/Python/3.9/lib/python/site-packages (1.0.1)\n",
      "Defaulting to user installation because normal site-packages is not writeable\n",
      "Requirement already satisfied: dotenv-python in /Users/quique/Library/Python/3.9/lib/python/site-packages (0.0.1)\n",
      "Defaulting to user installation because normal site-packages is not writeable\n",
      "Requirement already satisfied: python-dotenv in /Users/quique/Library/Python/3.9/lib/python/site-packages (1.0.1)\n"
     ]
    }
   ],
   "source": [
    "! pip install pinecone-client pandas datasets --upgrade\n",
    "! pip install langchain\n",
    "! pip install langchain-community\n",
    "! pip install langchain-openai\n",
    "! pip install spacy\n",
    "! pip install python-dotenv\n",
    "! pip install dotenv-python\n",
    "! pip install python-dotenv --upgrade"
   ]
  },
  {
   "cell_type": "code",
   "execution_count": 119,
   "metadata": {},
   "outputs": [
    {
     "data": {
      "text/plain": [
       "True"
      ]
     },
     "execution_count": 119,
     "metadata": {},
     "output_type": "execute_result"
    }
   ],
   "source": [
    "from dotenv import load_dotenv\n",
    "\n",
    "load_dotenv(\"../.env\")"
   ]
  },
  {
   "cell_type": "code",
   "execution_count": 120,
   "metadata": {},
   "outputs": [
    {
     "data": {
      "text/html": [
       "<div>\n",
       "<style scoped>\n",
       "    .dataframe tbody tr th:only-of-type {\n",
       "        vertical-align: middle;\n",
       "    }\n",
       "\n",
       "    .dataframe tbody tr th {\n",
       "        vertical-align: top;\n",
       "    }\n",
       "\n",
       "    .dataframe thead th {\n",
       "        text-align: right;\n",
       "    }\n",
       "</style>\n",
       "<table border=\"1\" class=\"dataframe\">\n",
       "  <thead>\n",
       "    <tr style=\"text-align: right;\">\n",
       "      <th></th>\n",
       "      <th>index</th>\n",
       "      <th>product</th>\n",
       "      <th>category</th>\n",
       "      <th>sub_category</th>\n",
       "      <th>brand</th>\n",
       "      <th>sale_price</th>\n",
       "      <th>market_price</th>\n",
       "      <th>type</th>\n",
       "      <th>rating</th>\n",
       "      <th>description</th>\n",
       "    </tr>\n",
       "  </thead>\n",
       "  <tbody>\n",
       "    <tr>\n",
       "      <th>0</th>\n",
       "      <td>5</td>\n",
       "      <td>Creme Soft Soap - For Hands &amp; Body</td>\n",
       "      <td>Beauty &amp; Hygiene</td>\n",
       "      <td>Bath &amp; Hand Wash</td>\n",
       "      <td>Nivea</td>\n",
       "      <td>162.0</td>\n",
       "      <td>162.0</td>\n",
       "      <td>Bathing Bars &amp; Soaps</td>\n",
       "      <td>4.4</td>\n",
       "      <td>Nivea Creme Soft Soap gives your skin the best...</td>\n",
       "    </tr>\n",
       "    <tr>\n",
       "      <th>1</th>\n",
       "      <td>103</td>\n",
       "      <td>Fructis Serum - Long &amp; Strong</td>\n",
       "      <td>Beauty &amp; Hygiene</td>\n",
       "      <td>Hair Care</td>\n",
       "      <td>Garnier</td>\n",
       "      <td>230.0</td>\n",
       "      <td>230.0</td>\n",
       "      <td>Shampoo &amp; Conditioner</td>\n",
       "      <td>4.8</td>\n",
       "      <td>Garnier Fruits Long &amp; Strong Strengthening Ser...</td>\n",
       "    </tr>\n",
       "  </tbody>\n",
       "</table>\n",
       "</div>"
      ],
      "text/plain": [
       "   index                             product          category  \\\n",
       "0      5  Creme Soft Soap - For Hands & Body  Beauty & Hygiene   \n",
       "1    103       Fructis Serum - Long & Strong  Beauty & Hygiene   \n",
       "\n",
       "       sub_category    brand  sale_price  market_price                   type  \\\n",
       "0  Bath & Hand Wash    Nivea       162.0         162.0   Bathing Bars & Soaps   \n",
       "1         Hair Care  Garnier       230.0         230.0  Shampoo & Conditioner   \n",
       "\n",
       "   rating                                        description  \n",
       "0     4.4  Nivea Creme Soft Soap gives your skin the best...  \n",
       "1     4.8  Garnier Fruits Long & Strong Strengthening Ser...  "
      ]
     },
     "execution_count": 120,
     "metadata": {},
     "output_type": "execute_result"
    }
   ],
   "source": [
    "import pandas as pd\n",
    "\n",
    "df = pd.read_csv(\"big_basket_beauty.csv\")\n",
    "df.head(2)"
   ]
  },
  {
   "cell_type": "code",
   "execution_count": 121,
   "metadata": {},
   "outputs": [],
   "source": [
    "# SOME OF THE VARIABLES WE MIGHT WANT TO EXPERIMENT WITH\n",
    "CHUNK_SIZE = 400\n",
    "CHUNK_OVERLAP = 50\n",
    "EMBEDDING_MODEL = \"text-embedding-3-small\""
   ]
  },
  {
   "cell_type": "code",
   "execution_count": 126,
   "metadata": {},
   "outputs": [
    {
     "data": {
      "text/plain": [
       "(982, 400, 50, 'beauty-rc-cs400-text-embedding-3-small-2')"
      ]
     },
     "execution_count": 126,
     "metadata": {},
     "output_type": "execute_result"
    }
   ],
   "source": [
    "from langchain_openai import OpenAIEmbeddings\n",
    "from langchain.text_splitter import RecursiveCharacterTextSplitter\n",
    "\n",
    "text_splitter = RecursiveCharacterTextSplitter(chunk_size=CHUNK_SIZE, chunk_overlap=CHUNK_OVERLAP)\n",
    "embeddings = OpenAIEmbeddings(model=EMBEDDING_MODEL)\n",
    "index_name = f\"beauty-rc-cs{CHUNK_SIZE}-{EMBEDDING_MODEL}-2\"\n",
    "\n",
    "chunks = text_splitter.create_documents(df.description.values, metadatas=[{\"product_name\": i} for i in df[\"product\"].values] )\n",
    "len(chunks), text_splitter._chunk_size, text_splitter._chunk_overlap, index_name"
   ]
  },
  {
   "cell_type": "code",
   "execution_count": 127,
   "metadata": {},
   "outputs": [
    {
     "name": "stdout",
     "output_type": "stream",
     "text": [
      "Product name: Creme Soft Soap - For Hands & Body\n",
      "Nivea Creme Soft Soap gives your skin the best care that it must get. The soft bar consists of Vitamins F and Almonds which are really skin gracious and help you get great skin. It provides the skin with moisture and leaves behind flawless and smooth skin. It makes sure that your body is totally free of germs & dirt and at the same time well nourished.For Beauty tips, tricks & more visit\n"
     ]
    }
   ],
   "source": [
    "def add_product_name_to_page_content(chunk):\n",
    "    chunk.page_content = f\"Product name: {chunk.metadata['product_name']}\\n{chunk.page_content}\"\n",
    "    chunk.metadata = {}\n",
    "\n",
    "for chunk in chunks:\n",
    "    add_product_name_to_page_content(chunk)\n",
    "    \n",
    "print(chunks[0].page_content)"
   ]
  },
  {
   "cell_type": "code",
   "execution_count": 128,
   "metadata": {},
   "outputs": [
    {
     "name": "stderr",
     "output_type": "stream",
     "text": [
      "Warning: model not found. Using cl100k_base encoding.\n"
     ]
    }
   ],
   "source": [
    "import os\n",
    "from pinecone import Pinecone, ServerlessSpec\n",
    "from langchain_community.vectorstores import Pinecone as langchain_pinecone\n",
    "\n",
    "# instantiate a Pinecone client\n",
    "pc = Pinecone(api_key=os.getenv(\"PINECONE_API_KEY\"))\n",
    "\n",
    "# First, check if our index already exists and delete stale index\n",
    "if index_name in [index_info['name'] for index_info in pc.list_indexes()]:\n",
    "    pc.delete_index(index_name)\n",
    "\n",
    "# we create a new index\n",
    "pc.create_index(name=index_name, \n",
    "                metric=\"cosine\", \n",
    "                dimension=1536, # Dimensions of OpenAI Embedding Model\n",
    "                spec=ServerlessSpec(\n",
    "                    cloud=\"aws\",\n",
    "                    region=\"us-west-2\"\n",
    "                ) )\n",
    "\n",
    "docsearch = langchain_pinecone.from_documents(chunks, embeddings, index_name=index_name)"
   ]
  },
  {
   "cell_type": "code",
   "execution_count": 129,
   "metadata": {},
   "outputs": [
    {
     "data": {
      "text/plain": [
       "{'dimension': 1536,\n",
       " 'index_fullness': 0.0,\n",
       " 'namespaces': {'': {'vector_count': 982}},\n",
       " 'total_vector_count': 982}"
      ]
     },
     "execution_count": 129,
     "metadata": {},
     "output_type": "execute_result"
    }
   ],
   "source": [
    "# connect to index\n",
    "index = pc.Index(index_name)\n",
    "stats = index.describe_index_stats()\n",
    "stats"
   ]
  },
  {
   "cell_type": "code",
   "execution_count": 130,
   "metadata": {},
   "outputs": [
    {
     "name": "stderr",
     "output_type": "stream",
     "text": [
      "Warning: model not found. Using cl100k_base encoding.\n"
     ]
    },
    {
     "data": {
      "text/plain": [
       "[Document(page_content='Product name: Taft Ultimate Wax\\nUltimate strongest taffeta-stop for 100% fixation with liquid crystal gloss effect that gives the hair a luxurious radiance. Ultimate Wax stop that is structured like wax and holds like a gel. It helps to protect the hair from drying out. It has the highest taffeta hold and crystal shine effect.'),\n",
       " Document(page_content='Product name: Taft Shine Gel Wax\\nTaft Hair Wax is a sculpting product in the Schwarzkopf line and it is used to add hold and shine to hair. The base formula includes vegetable or mineral oils that work to build a finish without being sticky.'),\n",
       " Document(page_content=\"Product name: Taft Ultra Wax\\nSchwarzkopf All Weather Taft Ultra Wax builds the perfect finish to your chic hairstyle. Now you don't have to worry about how intact your hairstyle stays in different weather conditions as this hair wax gives the right texture and hold.\"),\n",
       " Document(page_content='Product name: Taft Power Wax\\nSchwarzkopf professional Taft power wax hair styler contains a caffeine-strength formula, for power hold and 100 per cent strong hair, structures like wax and holds like a gel, all-weather will work for wet or dry hair. Make your hairdo an elegant and stylish affair with this power wax hair styler. It lends power and style and is suited for all occasions. Use it in any season without any reason.'),\n",
       " Document(page_content='Product name: Taft Ultra Wet Gel - Ultra Strong 4\\nTaft by Schwarzkopf gel protects from all the weather conditions for 24 hours. The ultra wet strong gel has no resistance and non-sticky. This gel will strengthen your hair and also, acts as a resistant to your hair.'),\n",
       " Document(page_content='Product name: Taft Looks - Wet Power Gel, Extra Hold 3\\nSchwarzkopf Taft All Weather Looks Wet Gel Extra Hold provides the long-lasting extra strong hold for wet look styles, without stickiness, without residues and easy to wash out.'),\n",
       " Document(page_content='Product name: Taft Looks V12 Power Gel Speed Hold 12\\nCatapult your hair in seconds into unrivalled high Taft hold for the most demanding challenges with the top-of-the-line Taft v12 high-speed gel. The new formula is boosted with v12 fixing agents and speed-hold technology to pave the way for an accelerated styling and incredible hold.'),\n",
       " Document(page_content='Product name: Taft Ultimate Hair Lacquer Ultimately Strong 6\\nTaft hairspray Ultimate-6 offers the highest Taft fixation thanks to two combined polymers and also gives the hair a beautiful shine. This spray is great for all hair types and helps you get your desired hairstyle in a go. The strong hold feature of this hair styling lacquer will hold your desired hairstyle strong so that your hair does not need a touch-up or styling for every minute.'),\n",
       " Document(page_content='Product name: Taft Shine Hair Lacquer Mega Strong 5\\nAll Weather Taft brilliant shine booster shine hair lacquer intensive shine like a 10 carat brilliant mega strong 5, and 24 hold no stickiness. It is a product that gives the brilliant shine booster for intensive shine 24 hold without stickiness, no residues, easily brushes out does not weigh down your hair and protect it from dryness. The special All Weather Taft formulation protects your hair'),\n",
       " Document(page_content='Product name: Taft Looks Marathon Power Gel - Long Lasting Hold 6\\nSchwarzkopf Taft marathon looks like 48 hours long-lasting and holds 6 power gel of 150 ml. Schwarzkopf Taft gel marathon cube is the first Taft gel for 48h long-lasting and holds under all circumstances, without leftovers and without sticking. The formula with high endurance polymers is extremely flexible, allowing you with your hands through your hair can go without it loses strength.')]"
      ]
     },
     "execution_count": 130,
     "metadata": {},
     "output_type": "execute_result"
    }
   ],
   "source": [
    "query = \"Is Taft Ultimate Wax a gel or a wax?\"\n",
    "docs = docsearch.similarity_search(query, k=10)\n",
    "docs"
   ]
  }
 ],
 "metadata": {
  "kernelspec": {
   "display_name": "rag",
   "language": "python",
   "name": "python3"
  },
  "language_info": {
   "codemirror_mode": {
    "name": "ipython",
    "version": 3
   },
   "file_extension": ".py",
   "mimetype": "text/x-python",
   "name": "python",
   "nbconvert_exporter": "python",
   "pygments_lexer": "ipython3",
   "version": "3.9.6"
  }
 },
 "nbformat": 4,
 "nbformat_minor": 2
}
