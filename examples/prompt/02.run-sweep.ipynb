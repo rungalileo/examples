{
  "cells": [
    {
      "cell_type": "code",
      "execution_count": null,
      "metadata": {},
      "outputs": [],
      "source": [
        "%pip install --upgrade promptquality"
      ]
    },
    {
      "cell_type": "markdown",
      "metadata": {},
      "source": [
        "Set these environment variables before starting your Jupyter kernel:\n",
        "- `GALILEO_CONSOLE_URL`\n",
        "- `GALILEO_USERNAME`\n",
        "- `GALILEO_PASSWORD`"
      ]
    },
    {
      "cell_type": "code",
      "execution_count": null,
      "metadata": {},
      "outputs": [],
      "source": [
        "import promptquality as pq\n",
        "\n",
        "pq.login()"
      ]
    },
    {
      "cell_type": "markdown",
      "metadata": {},
      "source": [
        "Store your OpenAI key."
      ]
    },
    {
      "cell_type": "code",
      "execution_count": null,
      "metadata": {},
      "outputs": [],
      "source": [
        "from os import environ\n",
        "\n",
        "pq.add_openai_integration(api_key=environ.get(\"OPENAI_API_KEY\"), organization_id=environ.get(\"OPENAI_ORG_ID\"))"
      ]
    },
    {
      "cell_type": "code",
      "execution_count": null,
      "metadata": {},
      "outputs": [],
      "source": [
        "from promptquality import SupportedModels\n",
        "\n",
        "models = [\n",
        "    SupportedModels.chat_gpt_16k,\n",
        "    SupportedModels.gpt_4,\n",
        "]\n",
        "\n",
        "templates = [\"Explain {topic} to me like I'm a 5 year old\", \"Explain {topic} to me like I'm a 50 year old\"]\n",
        "\n",
        "data = {\"topic\": [\"Quantum Physics\", \"Politics\", \"Large Language Models\"]}"
      ]
    },
    {
      "cell_type": "code",
      "execution_count": null,
      "metadata": {},
      "outputs": [],
      "source": [
        "pq.run_sweep(templates=templates, dataset=data, model_aliases=models, execute=True)"
      ]
    },
    {
      "cell_type": "code",
      "execution_count": null,
      "metadata": {},
      "outputs": [],
      "source": []
    }
  ],
  "metadata": {
    "language_info": {
      "codemirror_mode": {
        "name": "ipython",
        "version": 3
      },
      "file_extension": ".py",
      "mimetype": "text/x-python",
      "name": "python",
      "nbconvert_exporter": "python",
      "pygments_lexer": "ipython3"
    }
  },
  "nbformat": 4,
  "nbformat_minor": 2
}
