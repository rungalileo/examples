{
  "cells": [
    {
      "cell_type": "code",
      "execution_count": null,
      "metadata": {},
      "outputs": [],
      "source": [
        "%pip install --upgrade promptquality"
      ]
    },
    {
      "cell_type": "markdown",
      "metadata": {},
      "source": [
        "Set these environment variables before starting your Jupyter kernel:\n",
        "- `GALILEO_CONSOLE_URL`\n",
        "- `GALILEO_USERNAME`\n",
        "- `GALILEO_PASSWORD`"
      ]
    },
    {
      "cell_type": "code",
      "execution_count": null,
      "metadata": {},
      "outputs": [],
      "source": [
        "import promptquality as pq\n",
        "\n",
        "pq.login()"
      ]
    },
    {
      "cell_type": "markdown",
      "metadata": {},
      "source": [
        "Store your OpenAI key."
      ]
    },
    {
      "cell_type": "code",
      "execution_count": null,
      "metadata": {},
      "outputs": [],
      "source": [
        "from os import environ\n",
        "\n",
        "pq.add_openai_integration(api_key=environ.get(\"OPENAI_API_KEY\"), organization_id=environ.get(\"OPENAI_ORG_ID\"))"
      ]
    },
    {
      "cell_type": "code",
      "execution_count": null,
      "metadata": {},
      "outputs": [],
      "source": [
        "template = \"Explain {topic} to me like I'm a 5 year old\"\n",
        "\n",
        "data = {\"topic\": [\"Quantum Physics\", \"Politics\", \"Large Language Models\"]}\n",
        "\n",
        "pq.run(template=template, dataset=data)"
      ]
    },
    {
      "cell_type": "code",
      "execution_count": null,
      "metadata": {},
      "outputs": [],
      "source": [
        "pq.get_rows()"
      ]
    },
    {
      "cell_type": "code",
      "execution_count": null,
      "metadata": {},
      "outputs": [],
      "source": []
    }
  ],
  "metadata": {
    "language_info": {
      "codemirror_mode": {
        "name": "ipython",
        "version": 3
      },
      "file_extension": ".py",
      "mimetype": "text/x-python",
      "name": "python",
      "nbconvert_exporter": "python",
      "pygments_lexer": "ipython3"
    }
  },
  "nbformat": 4,
  "nbformat_minor": 2
}
