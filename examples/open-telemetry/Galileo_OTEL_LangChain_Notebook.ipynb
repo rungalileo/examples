{
  "cells": [
    {
      "cell_type": "markdown",
      "id": "499756e1",
      "metadata": {
        "id": "499756e1"
      },
      "source": [
        "# 📘 Galileo + OpenTelemetry Tracing Guide (Python)\n",
        "\n",
        "This notebook demonstrates how to send OpenTelemetry traces to Galileo using OpenInference.\n",
        "\n",
        "🔗 See full documentation [here](https://v2galileo.mintlify.app/guides/logs/otel)"
      ]
    },
    {
      "cell_type": "code",
      "execution_count": null,
      "id": "22f46309",
      "metadata": {
        "id": "22f46309"
      },
      "outputs": [],
      "source": [
        "pip install -U \\\n",
        "    langchain \\\n",
        "    openinference-instrumentation-langchain \\\n",
        "    opentelemetry-sdk \\\n",
        "    opentelemetry-exporter-otlp \\\n",
        "    opentelemetry-api \\\n",
        "    \"opentelemetry-proto>=1.12.0\"  -q"
      ]
    },
    {
      "cell_type": "code",
      "execution_count": null,
      "id": "LqWTc3tThcT2",
      "metadata": {
        "id": "LqWTc3tThcT2"
      },
      "outputs": [],
      "source": [
        "GALILEO_API_KEY = \"YOUR_API_KEY\"\n",
        "PROJECT_NAME = \"YOUR-PROJECT-NAME\"\n",
        "LOG_STREAM_NAME = \"my_log_stream\""
      ]
    },
    {
      "cell_type": "markdown",
      "id": "8f66cba4",
      "metadata": {
        "id": "8f66cba4"
      },
      "source": [
        "## 🔐 Authentication and Header Setup"
      ]
    },
    {
      "cell_type": "code",
      "execution_count": null,
      "id": "af423957",
      "metadata": {
        "id": "af423957"
      },
      "outputs": [],
      "source": [
        "import os\n",
        "\n",
        "headers = {\n",
        "    \"Galileo-API-Key\": GALILEO_API_KEY,\n",
        "    \"project\": PROJECT_NAME,\n",
        "    \"logstream\": LOG_STREAM_NAME,\n",
        "}\n",
        "# Format headers as a comma-separated key=value string\n",
        "# Example: Galileo-API-Key=abc123,project_name=my_project,log_stream_name=my_run\n",
        "os.environ['OTEL_EXPORTER_OTLP_TRACES_HEADERS'] = \",\".join([f\"{k}={v}\" for k, v in headers.items()])"
      ]
    },
    {
      "cell_type": "markdown",
      "id": "af3f8236",
      "metadata": {
        "id": "af3f8236"
      },
      "source": [
        "## ⚙️ OpenTelemetry Setup"
      ]
    },
    {
      "cell_type": "code",
      "execution_count": null,
      "id": "db985591",
      "metadata": {
        "colab": {
          "base_uri": "https://localhost:8080/"
        },
        "id": "db985591",
        "outputId": "62e7aeec-d33d-45cb-b157-dc4423e7b542"
      },
      "outputs": [
        {
          "name": "stdout",
          "output_type": "stream",
          "text": [
            "OTEL tracing initialized.\n"
          ]
        }
      ],
      "source": [
        "from opentelemetry.sdk import trace as trace_sdk\n",
        "from opentelemetry import trace as trace_api\n",
        "from opentelemetry.sdk.trace.export import BatchSpanProcessor, ConsoleSpanExporter\n",
        "from opentelemetry.exporter.otlp.proto.http.trace_exporter import OTLPSpanExporter\n",
        "from openinference.instrumentation.langchain import LangChainInstrumentor\n",
        "\n",
        "# OTEL endpoint for Galileo\n",
        "endpoint = \"https://app.galileo.ai/api/galileo/otel/traces\"\n",
        "\n",
        "# Setup tracer provider\n",
        "tracer_provider = trace_sdk.TracerProvider()\n",
        "tracer_provider.add_span_processor(BatchSpanProcessor(OTLPSpanExporter(endpoint)))\n",
        "\n",
        "# Optional: log locally\n",
        "tracer_provider.add_span_processor(BatchSpanProcessor(ConsoleSpanExporter()))\n",
        "\n",
        "# Register the provider\n",
        "trace_api.set_tracer_provider(tracer_provider=tracer_provider)\n",
        "\n",
        "# LangChain instrumentation\n",
        "LangChainInstrumentor().instrument(tracer_provider=tracer_provider)\n",
        "\n",
        "print(\"LangChain OTEL tracing initialized.\")"
      ]
    },
    {
      "cell_type": "markdown",
      "id": "161e22a4",
      "metadata": {},
      "source": [
        "# Demo"
      ]
    },
    {
      "cell_type": "code",
      "execution_count": null,
      "id": "-UzqOCdGfqLv",
      "metadata": {
        "id": "-UzqOCdGfqLv"
      },
      "outputs": [],
      "source": [
        "import os\n",
        "try:\n",
        "  if not os.environ.get(\"OPENAI_API_KEY\"):\n",
        "    from google.colab import userdata\n",
        "    os.environ[\"OPENAI_API_KEY\"] = userdata.get('OPENAI_API_KEY')\n",
        "except:\n",
        "  print(\"Please set the  OPENAI_API_KEY variable\")\n",
        "\n",
        "from langchain.prompts import PromptTemplate\n",
        "from langchain.schema import StrOutputParser\n",
        "from langchain.schema.runnable import RunnablePassthrough\n",
        "from langchain_openai import OpenAI\n",
        "\n",
        "llm = OpenAI()\n",
        "\n",
        "prompt_1 = PromptTemplate.from_template(\n",
        "    \"\"\"Test Prompt 1:\n",
        "    Question: '{question}'\n",
        "    Answer: \"\"\"\n",
        ")\n",
        "\n",
        "prompt_2 = PromptTemplate.from_template(\n",
        "    \"\"\"Test Prompt 2\n",
        "Question: '{question}'\n",
        "Scientific Explanation:\n",
        "Answer: \"\"\"\n",
        ")\n",
        "\n",
        "chain = (\n",
        "    {\"explanation\": prompt_2 | llm | StrOutputParser(), \"question\": RunnablePassthrough()}\n",
        "    | prompt_1\n",
        "    | llm\n",
        "    | StrOutputParser()\n",
        ")\n",
        "\n",
        "question = \"Why is the sky blue? v1\"\n",
        "chain.invoke(question, config={\"callbacks\": []})"
      ]
    }
  ],
  "metadata": {
    "colab": {
      "provenance": []
    },
    "kernelspec": {
      "display_name": "Python 3 (ipykernel)",
      "language": "python",
      "name": "python3"
    },
    "language_info": {
      "codemirror_mode": {
        "name": "ipython",
        "version": 3
      },
      "file_extension": ".py",
      "mimetype": "text/x-python",
      "name": "python",
      "nbconvert_exporter": "python",
      "pygments_lexer": "ipython3",
      "version": "3.10.13"
    }
  },
  "nbformat": 4,
  "nbformat_minor": 5
}
