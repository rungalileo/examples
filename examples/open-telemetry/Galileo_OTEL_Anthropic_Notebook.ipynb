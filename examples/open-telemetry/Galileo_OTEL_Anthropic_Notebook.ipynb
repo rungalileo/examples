{
  "cells": [
    {
      "cell_type": "markdown",
      "id": "499756e1",
      "metadata": {
        "id": "499756e1"
      },
      "source": [
        "# 📘 Galileo + OpenTelemetry Tracing Guide (Python)\n",
        "\n",
        "This notebook demonstrates how to send OpenTelemetry traces to Galileo using OpenInference.\n",
        "\n",
        "🔗 See full documentation [here](https://v2galileo.mintlify.app/guides/logs/otel)"
      ]
    },
    {
      "cell_type": "code",
      "execution_count": null,
      "id": "22f46309",
      "metadata": {
        "id": "22f46309"
      },
      "outputs": [],
      "source": [
        "pip install -U \\\n",
        "    openinference-instrumentation-anthropic \\\n",
        "    opentelemetry-sdk \\\n",
        "    opentelemetry-exporter-otlp \\\n",
        "    opentelemetry-api \\\n",
        "    \"opentelemetry-proto>=1.12.0\" -q"
      ]
    },
    {
      "cell_type": "code",
      "execution_count": null,
      "id": "LqWTc3tThcT2",
      "metadata": {
        "id": "LqWTc3tThcT2"
      },
      "outputs": [],
      "source": [
        "GALILEO_API_KEY = \"YOUR_API_KEY\"\n",
        "PROJECT_NAME = \"YOUR-PROJECT-NAME\"\n",
        "LOG_STREAM_NAME = \"my_log_stream\"\n",
        "\n"
      ]
    },
    {
      "cell_type": "markdown",
      "id": "8f66cba4",
      "metadata": {
        "id": "8f66cba4"
      },
      "source": [
        "## 🔐 Authentication and Header Setup"
      ]
    },
    {
      "cell_type": "code",
      "execution_count": null,
      "id": "af423957",
      "metadata": {
        "id": "af423957"
      },
      "outputs": [],
      "source": [
        "import os\n",
        "\n",
        "headers = {\n",
        "    \"Galileo-API-Key\": GALILEO_API_KEY,\n",
        "    \"project\": PROJECT_NAME,\n",
        "    \"logstream\": LOG_STREAM_NAME,\n",
        "}\n",
        "# Format headers as a comma-separated key=value string\n",
        "# Example: Galileo-API-Key=abc123,project_name=my_project,log_stream_name=my_run\n",
        "os.environ['OTEL_EXPORTER_OTLP_TRACES_HEADERS'] = \",\".join([f\"{k}={v}\" for k, v in headers.items()])"
      ]
    },
    {
      "cell_type": "markdown",
      "id": "af3f8236",
      "metadata": {
        "id": "af3f8236"
      },
      "source": [
        "## ⚙️ OpenTelemetry Setup"
      ]
    },
    {
      "cell_type": "code",
      "execution_count": null,
      "id": "db985591",
      "metadata": {
        "colab": {
          "base_uri": "https://localhost:8080/"
        },
        "id": "db985591",
        "outputId": "62e7aeec-d33d-45cb-b157-dc4423e7b542"
      },
      "outputs": [
        {
          "name": "stdout",
          "output_type": "stream",
          "text": [
            "OTEL tracing initialized.\n"
          ]
        }
      ],
      "source": [
        "from openinference.instrumentation.anthropic import AnthropicInstrumentor\n",
        "from opentelemetry.sdk import trace as trace_sdk\n",
        "from opentelemetry import trace as trace_api\n",
        "from opentelemetry.sdk.trace.export import BatchSpanProcessor, ConsoleSpanExporter\n",
        "from opentelemetry.exporter.otlp.proto.http.trace_exporter import OTLPSpanExporter\n",
        "\n",
        "os.environ[\"ANTHROPIC_API_KEY\"] = \"YOUR_KEY_HERE\"\n",
        "\n",
        "# OTEL endpoint for Galileo\n",
        "endpoint = \"http://api.galileo.ai/otel/traces\"\n",
        "\n",
        "# Setup tracer provider\n",
        "tracer_provider = trace_sdk.TracerProvider()\n",
        "tracer_provider.add_span_processor(BatchSpanProcessor(OTLPSpanExporter(endpoint)))\n",
        "\n",
        "# Optional: log locally\n",
        "tracer_provider.add_span_processor(BatchSpanProcessor(ConsoleSpanExporter()))\n",
        "\n",
        "# Register the provider\n",
        "trace_api.set_tracer_provider(tracer_provider=tracer_provider)\n",
        "\n",
        "# Antropic Instrument\n",
        "AnthropicInstrumentor().instrument(tracer_provider=tracer_provider)\n",
        "\n",
        "print(\"Antropic OTEL tracing initialized.\")\n"
      ]
    },
    {
      "cell_type": "code",
      "execution_count": null,
      "id": "-UzqOCdGfqLv",
      "metadata": {
        "id": "-UzqOCdGfqLv"
      },
      "outputs": [],
      "source": [
        "from anthropic import Anthropic\n",
        "\n",
        "client = Anthropic()\n",
        "\n",
        "response = client.messages.create(\n",
        "    max_tokens=1024,\n",
        "    messages=[\n",
        "        {\n",
        "            \"role\": \"user\",\n",
        "            \"content\": \"Tell me about the history of Iceland!\",\n",
        "        }\n",
        "    ],\n",
        "    model=\"claude-3-opus-20240229\",\n",
        ")"
      ]
    },
    {
      "cell_type": "code",
      "execution_count": null,
      "id": "MOLrqdrt0Cuy",
      "metadata": {
        "id": "MOLrqdrt0Cuy"
      },
      "outputs": [],
      "source": []
    }
  ],
  "metadata": {
    "colab": {
      "provenance": []
    },
    "kernelspec": {
      "display_name": "Python 3 (ipykernel)",
      "language": "python",
      "name": "python3"
    },
    "language_info": {
      "codemirror_mode": {
        "name": "ipython",
        "version": 3
      },
      "file_extension": ".py",
      "mimetype": "text/x-python",
      "name": "python",
      "nbconvert_exporter": "python",
      "pygments_lexer": "ipython3",
      "version": "3.10.13"
    }
  },
  "nbformat": 4,
  "nbformat_minor": 5
}
