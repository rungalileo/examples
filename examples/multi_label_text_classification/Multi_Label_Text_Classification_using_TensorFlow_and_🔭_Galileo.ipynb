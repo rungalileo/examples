{
  "cells": [
    {
      "cell_type": "markdown",
      "metadata": {
        "id": "j5JVjGAAJOTn"
      },
      "source": [
        "# Multi Label Text Classification using TensorFlow and 🔭 Galileo\n",
        "\n",
        "In this tutorial, we'll train a model with Tensorflow and explore the results in Galileo.\n",
        "\n",
        "**Make sure to select GPU in your Runtime! (Runtime -> Change Runtime type)**"
      ]
    },
    {
      "cell_type": "code",
      "execution_count": null,
      "metadata": {
        "cellView": "form",
        "id": "UfMcPbg19uz1"
      },
      "outputs": [],
      "source": [
        "#@title Install `dataquality` with `pip install dataquality`\n",
        "\n",
        "try:\n",
        "    import dataquality as dq\n",
        "except ImportError:\n",
        "    # Upgrade pip\n",
        "    !pip install -U pip &> /dev/null\n",
        "\n",
        "    # Install HF datasets for downloading the example datasets\n",
        "    !pip install -U dataquality datasets tensorflow &> /dev/null\n",
        "    \n",
        "    print('👋 Installed necessary libraries.')\n",
        "    print('🙏 Continue with the rest of the notebook or hit \"Run All\" again!')"
      ]
    },
    {
      "cell_type": "markdown",
      "metadata": {
        "id": "UxoFrrnXhwG_"
      },
      "source": [
        "# 1. Login to Galileo"
      ]
    },
    {
      "cell_type": "code",
      "execution_count": null,
      "metadata": {
        "collapsed": true,
        "id": "pO6DdYFob5UV"
      },
      "outputs": [],
      "source": [
        "import dataquality as dq\n",
        "\n",
        "dq.login()"
      ]
    },
    {
      "cell_type": "markdown",
      "metadata": {
        "id": "hSR6g3ejucMH"
      },
      "source": [
        "# 2. Load Data"
      ]
    },
    {
      "cell_type": "code",
      "execution_count": null,
      "metadata": {
        "cellView": "form",
        "id": "Wru0QtcoQmY2"
      },
      "outputs": [],
      "source": [
        "#@title 🤗 HuggingFace Dataset\n",
        "#@markdown You can find more datasets [here](https://huggingface.co/datasets?language=language:en&task_categories=task_categories:text-classification&task_ids=task_ids:multi-label-classification&sort=downloads).\n",
        "\n",
        "dataset_name = 'go_emotions' #@param [\"go_emotions\", \"lex_glue\"] {allow-input: true}\n",
        "print(f\"You selected the {dataset_name} dataset\")\n",
        "\n",
        "from IPython.utils import io\n",
        "from datasets import load_dataset, get_dataset_config_names\n",
        "\n",
        "# Try to load the data. If a config (subset) is needed, pick one\n",
        "try:\n",
        "  with io.capture_output() as captured:\n",
        "    data = load_dataset(dataset_name)\n",
        "except ValueError as e:\n",
        "  if \"Config name is missing\" not in repr(e):\n",
        "    raise e\n",
        "\n",
        "  configs = get_dataset_config_names(dataset_name)\n",
        "  print(f\"The dataset {dataset_name} has multiple subsets {configs}.\")\n",
        "  config = input(f\"🖖 Enter the name of the subset to pick (or leave blank for any): \")\n",
        "  if config:\n",
        "    assert config in configs, f\"{config} is not a valid subset\"\n",
        "  else:\n",
        "    config = configs[0]\n",
        "  with io.capture_output() as captured:\n",
        "    data = load_dataset(dataset_name, name=config)\n",
        "\n",
        "# Check that the dataset has at least train and either of validation/test\n",
        "assert \"train\" in data and {\"validation\", \"test\"}.intersection(data), \\\n",
        "f\"💾 The dataset {dataset_name} has either no train, or no validation or test splits, select another one.\"\n",
        "\n",
        "print(f\"\\n🏆 Dataset {dataset_name} loaded succesfully\")\n",
        "\n",
        "# A small function for minimizing the dataset for testing\n",
        "import os\n",
        "\n",
        "def _minimize_for_ci() -> bool:\n",
        "    return os.getenv(\"MINIMIZE_FOR_CI\", \"false\") == \"true\""
      ]
    },
    {
      "cell_type": "code",
      "execution_count": null,
      "metadata": {
        "cellView": "form",
        "id": "u3yKR4e9d3xa"
      },
      "outputs": [],
      "source": [
        "#@markdown Convert HF dataset to Pandas dataframes \n",
        "import pandas as pd\n",
        "import numpy as np\n",
        "\n",
        "def load_pandas_df(data):\n",
        "  # Find the name of the ground truth column\n",
        "  good_col_names = [name for name in list(data['train'].features) if \"label\" in name]\n",
        "  if len(good_col_names) == 1:\n",
        "    label_col = good_col_names[0]\n",
        "  else:\n",
        "    col_names = list(data['train'].features)\n",
        "    print(f\"The name of the columns are {col_names}.\")\n",
        "    label_col = input(f\"🏅 Please enter the name of the column containing the labels: \")\n",
        "    assert label_col in col_names, f\"{label_col} is not an existing column\"\n",
        "\n",
        "  # Load the labels in a dictionary\n",
        "  num_classes = len(data['train'].features[label_col].feature.names)\n",
        "  labels_cols = data['train'].features[label_col].feature.int2str(range(0, num_classes))\n",
        "\n",
        "  def binarize_label_indices(label_idxs):\n",
        "    a = np.zeros(len(labels_cols), dtype=int)\n",
        "    a[label_idxs] = 1\n",
        "    return a\n",
        "\n",
        "  # Load the train data into a frame\n",
        "  train_data = data[\"train\"]\n",
        "  train_df = pd.DataFrame.from_dict(train_data)\n",
        "  train_labels = list(map(binarize_label_indices, data['train'][label_col]))\n",
        "  _train_df_labels = pd.DataFrame(train_labels, columns=labels_cols)\n",
        "  train_df = pd.concat([train_df, _train_df_labels], axis=1)\n",
        "  train_df['id'] = train_df.index\n",
        "\n",
        "  # Load the test data into a frame\n",
        "  test_split_name = \"validation\" if \"validation\" in data else \"test\"\n",
        "  test_data = data[test_split_name]\n",
        "  test_df = pd.DataFrame.from_dict(test_data)\n",
        "  test_labels = list(map(binarize_label_indices, data[test_split_name][label_col]))\n",
        "  _test_df_labels = pd.DataFrame(test_labels, columns=labels_cols)\n",
        "  test_df = pd.concat([test_df, _test_df_labels], axis=1)\n",
        "  test_df['id'] = test_df.index\n",
        "  \n",
        "  return train_df, test_df, labels_cols\n",
        "\n",
        "train_df, test_df, labels_cols = load_pandas_df(data)\n",
        "\n",
        "if _minimize_for_ci():\n",
        "  train_df, test_df = train_df[:10], test_df[:10]"
      ]
    },
    {
      "cell_type": "markdown",
      "metadata": {
        "id": "cicBhcwoQvjl"
      },
      "source": [
        "# 3. Initialize Galileo"
      ]
    },
    {
      "cell_type": "code",
      "execution_count": null,
      "metadata": {
        "id": "JyDJNcDRQis6"
      },
      "outputs": [],
      "source": [
        "# 🔭🌕 Galileo logging\n",
        "dq.init(task_type=\"text_multi_label\", \n",
        "        project_name=\"multi_label_text_classification_tensorflow\", \n",
        "        run_name=f\"example_run_{dataset_name.replace('/', '-')}\")"
      ]
    },
    {
      "cell_type": "markdown",
      "metadata": {
        "id": "6zJHmvxTJ2pN"
      },
      "source": [
        "# 4. Log input data with Galileo\n",
        "Input data can be logged via `log_data_samples` (or `log_dataset` for logging iterables). This step will log input samples, gold labels, data split, and list of all labels. You can achieve this by adding 1 line of code to the standard PyTorch Dataset Class."
      ]
    },
    {
      "cell_type": "code",
      "execution_count": null,
      "metadata": {
        "id": "FX8KsPk_m6Au"
      },
      "outputs": [],
      "source": [
        "from transformers import AutoTokenizer\n",
        "import tensorflow as tf\n",
        "\n",
        "# 🔭🌕 Galileo logging\n",
        "dq.set_tasks_for_run(labels_cols, binary=True)\n",
        "dq.log_data_samples(texts=train_df[\"text\"], \n",
        "                    task_labels=train_df[labels_cols].apply(lambda row: list(row[row == 1].index.values), axis=1),\n",
        "                    ids=train_df[\"id\"],\n",
        "                    split=\"training\")\n",
        "dq.log_data_samples(texts=test_df[\"text\"], \n",
        "                    task_labels=test_df[labels_cols].apply(lambda row: list(row[row == 1].index.values), axis=1),\n",
        "                    ids=test_df[\"id\"],\n",
        "                    split=\"test\")\n",
        "\n",
        "\n",
        "tokenizer = AutoTokenizer.from_pretrained(\"distilbert-base-uncased\")\n",
        "BATCH_SIZE = 16\n",
        "# Train and test datasets\n",
        "datasets = []\n",
        "for df in [train_df, test_df]:\n",
        "  inputs = tokenizer(df.text.to_list(), truncation=True, padding=True)\n",
        "  inputs[\"label\"] = df[labels_cols]\n",
        "  inputs[\"id\"] = df[\"id\"]\n",
        "  dataset = tf.data.Dataset.from_tensor_slices(dict(inputs)).batch(BATCH_SIZE)\n",
        "  datasets.append(dataset)\n",
        "\n",
        "train_ds, test_ds = datasets"
      ]
    },
    {
      "cell_type": "markdown",
      "metadata": {
        "id": "nMV9XnJaSg9j"
      },
      "source": [
        "# 5. Log model data with Galileo\n",
        "\n",
        "Model data can be logged via `log_model_outputs`. This step will log the model logits and embeddings. You can achieve this by adding 1 line of code to the standard pytorch model. \n",
        "\n",
        "We log [CLS]-token embedding from final layer, but you can log any custom layer for embeddings. "
      ]
    },
    {
      "cell_type": "code",
      "execution_count": null,
      "metadata": {
        "id": "7kvfEg4cnzTZ"
      },
      "outputs": [],
      "source": [
        "import tensorflow as tf\n",
        "from transformers import TFAutoModel\n",
        "\n",
        "class TextMultiLabelClassificationModel(tf.keras.Model):\n",
        "  def __init__(self, num_tasks):\n",
        "    super().__init__()\n",
        "    self.feature_extractor = TFAutoModel.from_pretrained(\"distilbert-base-uncased\")\n",
        "\n",
        "    # Check into this hidden size\n",
        "    hidden_size = self.feature_extractor.config.hidden_size\n",
        "    smaller_hidden_size = num_tasks + bool(hidden_size >= num_tasks)*(hidden_size - num_tasks) // 4\n",
        "    self.pre_classifier = tf.keras.layers.Dense(smaller_hidden_size)\n",
        "    self.classifier = tf.keras.layers.Dense(num_tasks)\n",
        "\n",
        "  def call(self, x, ids):\n",
        "    input_ids, attention_mask = x\n",
        "    \"\"\"Model forward function.\"\"\"\n",
        "    encoded_layers = self.feature_extractor(input_ids=input_ids, attention_mask=attention_mask).last_hidden_state\n",
        "    classification_embedding = encoded_layers[:, 0] # Extract [CLS]-token\n",
        "\n",
        "    emb = self.pre_classifier(classification_embedding)\n",
        "    emb = tf.nn.dropout(tf.nn.relu(emb), rate=0.1)\n",
        "    logits = self.classifier(emb)\n",
        "\n",
        "    # 🔭🌕 Galileo logging\n",
        "    dq.log_model_outputs(\n",
        "        embs=classification_embedding, logits=logits, ids=ids\n",
        "    )\n",
        "\n",
        "    return logits"
      ]
    },
    {
      "cell_type": "markdown",
      "metadata": {
        "id": "PnEeJN1IyMl0"
      },
      "source": [
        "# 6. Putting into Action: Training a Model\n",
        "\n",
        "We complete the training pipeline by using a standard PyTorch training setup. While training, we log the current `epoch` and `split`. To complete logging, we call `dq.finish()` after training."
      ]
    },
    {
      "cell_type": "code",
      "execution_count": null,
      "metadata": {
        "id": "-lRIh9U7oL2V"
      },
      "outputs": [],
      "source": [
        "from tqdm.notebook import tqdm\n",
        "\n",
        "NUM_EPOCHS = 2\n",
        "\n",
        "model = TextMultiLabelClassificationModel(len(labels_cols))\n",
        "optimizer = tf.keras.optimizers.Adam(learning_rate=5e-5)\n",
        "\n",
        "# Sparse means label can be provided as class idx, not one hot\n",
        "loss_fn = tf.keras.losses.BinaryCrossentropy(from_logits=True)\n",
        "\n",
        "# Iterate over epochs.\n",
        "for epoch in range(NUM_EPOCHS):\n",
        "  print(\"Start of epoch %d\" % (epoch,))\n",
        "  dq.set_epoch(epoch) # 🔭🌕 Galileo logging\n",
        "\n",
        "  # Iterate over the batches of the train dataset.\n",
        "  dq.set_split(\"training\") # 🔭🌕 Galileo logging\n",
        "  for train_batch in tqdm(train_ds):\n",
        "      y = train_batch[\"label\"]\n",
        "      x = (train_batch[\"input_ids\"], train_batch[\"attention_mask\"])\n",
        "\n",
        "      with tf.GradientTape() as tape:\n",
        "          logits = model(\n",
        "              x,\n",
        "              ids=train_batch[\"id\"],\n",
        "          )\n",
        "          loss = loss_fn(y, logits)\n",
        "\n",
        "      grads = tape.gradient(loss, model.trainable_weights)\n",
        "      optimizer.apply_gradients(zip(grads, model.trainable_weights))\n",
        "\n",
        "\n",
        "  # Iterate over the batches of the test dataset.\n",
        "  dq.set_split(\"test\") # 🔭🌕 Galileo logging\n",
        "  for test_batch in tqdm(test_ds):\n",
        "      y = test_batch[\"label\"]\n",
        "      x = (test_batch[\"input_ids\"], test_batch[\"attention_mask\"])\n",
        "\n",
        "      logits = model(x, ids=test_batch[\"id\"])\n",
        "      loss = loss_fn(y, logits)\n",
        "\n",
        "dq.finish() # 🔭🌕 Galileo logging"
      ]
    },
    {
      "cell_type": "markdown",
      "metadata": {
        "id": "QkUoYnK0oFK_"
      },
      "source": [
        "# General Help and Docs\n",
        "- To get help with your task's requirements, call `dq.get_data_logger().doc()`\n",
        "- To see more general data and model logging docs, run `dq.docs()`"
      ]
    },
    {
      "cell_type": "code",
      "execution_count": null,
      "metadata": {
        "collapsed": true,
        "id": "V9o7ZwZVZIiM"
      },
      "outputs": [],
      "source": [
        "dq.get_data_logger().doc()\n",
        "help(dq.log_dataset)"
      ]
    }
  ],
  "metadata": {
    "accelerator": "GPU",
    "colab": {
      "collapsed_sections": [],
      "private_outputs": true,
      "provenance": []
    },
    "gpuClass": "standard",
    "kernelspec": {
      "display_name": "Python 3.9.13 ('base')",
      "language": "python",
      "name": "python3"
    },
    "language_info": {
      "name": "python",
      "version": "3.9.13 (main, Oct 13 2022, 16:12:30) \n[Clang 12.0.0 ]"
    },
    "vscode": {
      "interpreter": {
        "hash": "a8822641e88d7c74114f38a155dc8686f9f41cc7c790ba54cfc07cc82201c3e7"
      }
    }
  },
  "nbformat": 4,
  "nbformat_minor": 0
}
