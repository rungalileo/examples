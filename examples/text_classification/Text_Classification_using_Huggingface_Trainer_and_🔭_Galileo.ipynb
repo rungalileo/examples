{
  "cells": [
    {
      "cell_type": "markdown",
      "metadata": {
        "id": "j5JVjGAAJOTn"
      },
      "source": [
        "# 🔭 Text Classification using Huggingface Trainer  🔭\n",
        "\n",
        "In this tutorial, we'll train a model with Huggingface's transformers and explore the results in Galileo.\n",
        "\n",
        "**Make sure to select GPU in your Runtime! (Runtime -> Change Runtime type)**"
      ]
    },
    {
      "cell_type": "code",
      "execution_count": null,
      "metadata": {
        "cellView": "form",
        "id": "UfMcPbg19uz1"
      },
      "outputs": [],
      "source": [
        "#@title Install `dataquality`\n",
        "try:\n",
        "    import dataquality as dq\n",
        "except ImportError:\n",
        "    # Upgrade pip\n",
        "    !pip install -U pip &> /dev/null\n",
        "    # Install HF datasets for downloading the example datasets\n",
        "    !pip install -U dataquality datasets evaluate transformers &> /dev/null\n",
        "    \n",
        "    print('👋 Installed necessary libraries and restarting runtime! This should only need to happen once.')\n",
        "    print('🙏 Continue with the rest of the notebook or hit \"Run All\" again!')\n",
        "\n",
        "    # Restart the runtime\n",
        "    import os, time\n",
        "    time.sleep(1) # gives the print statements time to flush\n",
        "    os._exit(0) # exits without allowing the next cell to run"
      ]
    },
    {
      "cell_type": "markdown",
      "metadata": {
        "id": "SD5keU023j8C"
      },
      "source": [
        "# 1. Login to Galileo"
      ]
    },
    {
      "cell_type": "code",
      "execution_count": null,
      "metadata": {
        "id": "pO6DdYFob5UV"
      },
      "outputs": [],
      "source": [
        "dq.login()"
      ]
    },
    {
      "cell_type": "markdown",
      "metadata": {
        "id": "dOKPfMhYvgeL"
      },
      "source": [
        "# 2. Load Data"
      ]
    },
    {
      "cell_type": "code",
      "execution_count": null,
      "metadata": {
        "cellView": "form",
        "id": "C7B55N_B30kG"
      },
      "outputs": [],
      "source": [
        "#@title 🤗 HuggingFace Dataset\n",
        "#@markdown You can select any dataset from [here](https://huggingface.co/datasets?language=language:en&task_categories=task_categories:text-classification&task_ids=task_ids:multi-class-classification&sort=downloads).\n",
        "\n",
        "dataset_name = 'emotion' #@param [\"banking77\", \"emotion\", \"ag_news\"] {allow-input: true}\n",
        "print(f\"You selected the {dataset_name} dataset\")\n",
        "\n",
        "from IPython.utils import io\n",
        "from datasets import load_dataset\n",
        "\n",
        "with io.capture_output() as captured:\n",
        "    ds = load_dataset(dataset_name)"
      ]
    },
    {
      "cell_type": "markdown",
      "metadata": {
        "id": "JK4QbyDcowqW"
      },
      "source": [
        "# 3. Initialize Galileo"
      ]
    },
    {
      "cell_type": "code",
      "execution_count": null,
      "metadata": {
        "id": "YJiw7WSWomHj"
      },
      "outputs": [],
      "source": [
        "# 🔭🌕 Galileo logging\n",
        "dq.init(task_type=\"text_classification\", \n",
        "        project_name=\"text_classification_huggingface\", \n",
        "        run_name=f\"example_run_{dataset_name}_01\")"
      ]
    },
    {
      "cell_type": "markdown",
      "metadata": {
        "id": "6zJHmvxTJ2pN"
      },
      "source": [
        "# 4. Log Input Data with Galileo\n",
        "Input data needs to have the id column. This can be added through the datasets function map. Afterwards we simply log each split and the label names"
      ]
    },
    {
      "cell_type": "code",
      "execution_count": null,
      "metadata": {
        "id": "sTVYVBgAGXeo"
      },
      "outputs": [],
      "source": [
        "# 🔭🌕 Galileo preprocessing\n",
        "ds = ds.map(lambda x,idx : {\"id\":idx},with_indices=True)\n",
        "\n",
        "# We will train on a subset of the dataset to improve speed\n",
        "train_dataset = ds[\"train\"].select(range(4000))\n",
        "test_dataset = ds[\"test\"].select(range(2000))\n",
        "\n",
        "# 🔭🌕 Galileo logging\n",
        "dq.log_dataset(train_dataset, split=\"train\")\n",
        "dq.log_dataset(test_dataset, split=\"validation\")\n",
        "dq.set_labels_for_run(train_dataset.features['label'].names)"
      ]
    },
    {
      "cell_type": "markdown",
      "metadata": {
        "id": "PnEeJN1IyMl0"
      },
      "source": [
        "\n",
        "# 5. Putting into Action: Training a Model\n",
        "\n",
        "We complete the training pipeline by using a standard PyTorch training setup. While training, we log the current `epoch` and `split`. To complete logging, we call `dq.finish()` after training."
      ]
    },
    {
      "cell_type": "code",
      "execution_count": null,
      "metadata": {
        "id": "ctVNOob_yyW7"
      },
      "outputs": [],
      "source": [
        "from datasets import Dataset\n",
        "from transformers import AutoModelForSequenceClassification, TrainingArguments, Trainer\n",
        "from transformers import AutoTokenizer\n",
        "from datasets import load_metric\n",
        "import evaluate\n",
        "\n",
        "num_labels = len(ds[\"train\"].features[\"label\"].names)\n",
        "\n",
        "model_checkpoint = \"microsoft/xtremedistil-l6-h256-uncased\"\n",
        "\n",
        "tokenizer = AutoTokenizer.from_pretrained(model_checkpoint, use_fast=True)\n",
        "\n",
        "metric = evaluate.load(\"accuracy\")\n",
        "\n",
        "\n",
        "# Taken from the docs of the trainer module:\n",
        "#https://github.com/huggingface/transformers/blob/main/examples/pytorch/text-classification/run_glue.py#L434\n",
        "def preprocess_function(input_data, tokenizer):\n",
        "    return tokenizer(input_data[\"text\"],\n",
        "                   padding=\"max_length\",max_length=201 ,\n",
        "                   truncation=True)\n",
        "\n",
        "def compute_metrics(eval_pred):\n",
        "    predictions, labels = eval_pred\n",
        "    predictions = predictions.argmax( axis=1)\n",
        "    return metric.compute(predictions=predictions, references=labels)\n",
        "\n",
        "\n",
        "encoded_train_dataset = train_dataset.map(lambda x: preprocess_function(x,tokenizer),batched=True) \n",
        "encoded_test_dataset =  test_dataset.map(lambda x: preprocess_function(x,tokenizer),batched=True) \n",
        "\n",
        "model = AutoModelForSequenceClassification.from_pretrained(model_checkpoint, num_labels=num_labels)\n",
        "\n",
        "#Training arguments and training part\n",
        "metric_name = \"accuracy\"\n",
        "batch_size= 64\n",
        "args = TrainingArguments(\n",
        "    f\"finetuned\",\n",
        "    evaluation_strategy = \"epoch\",\n",
        "    save_strategy = \"epoch\",\n",
        "    learning_rate=3e-4,\n",
        "    per_device_train_batch_size=batch_size,\n",
        "    per_device_eval_batch_size=batch_size,\n",
        "    num_train_epochs=2,\n",
        "    weight_decay=0.01,\n",
        "    load_best_model_at_end=True,\n",
        "    metric_for_best_model=metric_name,\n",
        "    push_to_hub=False,\n",
        "    report_to=\"all\",\n",
        "    seed=42,\n",
        "    data_seed=42\n",
        "    )\n",
        "\n",
        "trainer = Trainer(\n",
        "    model,\n",
        "    args,\n",
        "    train_dataset=encoded_train_dataset,\n",
        "    eval_dataset=encoded_test_dataset,\n",
        "    tokenizer=tokenizer,\n",
        "    compute_metrics=compute_metrics,\n",
        ")"
      ]
    },
    {
      "cell_type": "code",
      "execution_count": null,
      "metadata": {
        "id": "F97a8HP607c1"
      },
      "outputs": [],
      "source": [
        "# 🔭🌕 Galileo logging\n",
        "from dataquality.integrations.transformers_trainer import  watch\n",
        "\n",
        "watch(trainer)"
      ]
    },
    {
      "cell_type": "code",
      "execution_count": null,
      "metadata": {
        "id": "Wpld22zWNfPo"
      },
      "outputs": [],
      "source": [
        "trainer.train()\n"
      ]
    },
    {
      "cell_type": "code",
      "execution_count": null,
      "metadata": {
        "id": "qR5DNm_n9gCH"
      },
      "outputs": [],
      "source": [
        "dq.finish() # 🔭🌕 Galileo logging"
      ]
    },
    {
      "cell_type": "markdown",
      "metadata": {
        "id": "QkUoYnK0oFK_"
      },
      "source": [
        "# General Help and Docs\n",
        "- To get help with your task's requirements, call `dq.get_data_logger().doc()`\n",
        "- To see more general data and model logging docs, run `dq.docs()`"
      ]
    },
    {
      "cell_type": "code",
      "execution_count": null,
      "metadata": {
        "id": "V9o7ZwZVZIiM"
      },
      "outputs": [],
      "source": [
        "dq.get_data_logger().doc()\n",
        "help(dq.log_dataset)"
      ]
    },
    {
      "cell_type": "markdown",
      "metadata": {
        "id": "vHEVON_qCeaZ"
      },
      "source": [
        "\n",
        "\n",
        "\n",
        "\n",
        "\n",
        "\n"
      ]
    }
  ],
  "metadata": {
    "accelerator": "GPU",
    "colab": {
      "collapsed_sections": [],
      "private_outputs": true,
      "provenance": []
    },
    "gpuClass": "standard",
    "kernelspec": {
      "display_name": "Python 3.9.8 64-bit ('3.9.8')",
      "language": "python",
      "name": "python3"
    },
    "language_info": {
      "name": "python",
      "version": "3.9.8"
    },
    "vscode": {
      "interpreter": {
        "hash": "0a52737fba14b956dbd19a6878a39c0e31d728e5e47cc6fef6cc59d4b07c19a4"
      }
    }
  },
  "nbformat": 4,
  "nbformat_minor": 0
}
