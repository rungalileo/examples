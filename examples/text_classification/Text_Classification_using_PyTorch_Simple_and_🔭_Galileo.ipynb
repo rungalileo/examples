{
  "cells": [
    {
      "cell_type": "markdown",
      "metadata": {
        "id": "j5JVjGAAJOTn"
      },
      "source": [
        "# Text Classification using PyTorch and 🔭 Galileo\n",
        "\n",
        "In this tutorial, we'll train a model with PyTorch and explore the results in Galileo.\n",
        "\n",
        "**Make sure to select GPU in your Runtime! (Runtime -> Change Runtime type)**"
      ]
    },
    {
      "cell_type": "code",
      "execution_count": 1,
      "metadata": {
        "cellView": "form",
        "id": "UfMcPbg19uz1"
      },
      "outputs": [
        {
          "name": "stdout",
          "output_type": "stream",
          "text": [
            "Installation done!\n"
          ]
        }
      ],
      "source": [
        "#@title Install `dataquality` with `pip install dataquality`\n",
        "from IPython.display import clear_output\n",
        "!pip install transformers datasets dataquality torchmetrics==0.8.3a0 torchmetrics vaex-ui -q\n",
        "clear_output()\n",
        "print(\"Installation done!\")"
      ]
    },
    {
      "cell_type": "markdown",
      "metadata": {
        "id": "SD5keU023j8C"
      },
      "source": [
        "## 1. Initialize Galileo\n",
        "Start your project with two lines of code:\n",
        "\n",
        "\n",
        "```python\n",
        "import dataquality as dq\n",
        "dq.init('text_classification',\n",
        "        'test_project',\n",
        "        'example_run')\n",
        "```"
      ]
    },
    {
      "cell_type": "code",
      "execution_count": null,
      "metadata": {},
      "outputs": [],
      "source": [
        "import dataquality as dq\n",
        "import datetime\n",
        "dq.set_console_url(\"https://console.dev.rungalileo.io\")\n",
        "current_time = str(datetime.datetime.now()).split('.')[0].replace(':','-')\n",
        "# 🔭🌕 Initialize the project\n",
        "project_name = 'test_project'\n",
        "run_name = f'example_run_{current_time}'\n",
        "dq.init('text_classification',\n",
        "        project_name,\n",
        "        run_name\n",
        "        )"
      ]
    },
    {
      "cell_type": "markdown",
      "metadata": {
        "id": "dOKPfMhYvgeL"
      },
      "source": [
        "# 2. Load Data"
      ]
    },
    {
      "cell_type": "code",
      "execution_count": null,
      "metadata": {
        "cellView": "form",
        "id": "C7B55N_B30kG"
      },
      "outputs": [],
      "source": [
        "#@title 🤗 HuggingFace Dataset\n",
        "#@markdown You can find more datasets [here](https://huggingface.co/datasets?language=language:en&task_categories=task_categories:text-classification&task_ids=task_ids:multi-class-classification&sort=downloads).\n",
        "\n",
        "dataset_name = 'emotion' #@param [\"rungalileo/conv_intent\", \"banking77\", \"emotion\", \"tweet_eval\"] {allow-input: true}\n",
        "print(f\"You selected the {dataset_name} dataset\")\n",
        "\n",
        "from IPython.utils import io\n",
        "from datasets import load_dataset, get_dataset_config_names\n",
        "\n",
        "# Try to load the data. If a config (subset) is needed, pick one\n",
        "try:\n",
        "  with io.capture_output() as captured:\n",
        "    data = load_dataset(dataset_name)\n",
        "except ValueError as e:\n",
        "  if \"Config name is missing\" not in repr(e):\n",
        "    raise e\n",
        "\n",
        "  configs = get_dataset_config_names(dataset_name)\n",
        "  print(f\"The dataset {dataset_name} has multiple subsets {configs}.\")\n",
        "  config = input(f\"🖖 Enter the name of the subset to pick (or leave blank for any): \")\n",
        "  if config:\n",
        "    assert config in configs, f\"{config} is not a valid subset\"\n",
        "  else:\n",
        "    config = configs[0]\n",
        "  with io.capture_output() as captured:\n",
        "    data = load_dataset(dataset_name, name=config)\n",
        "\n",
        "# Check that the dataset has at least train and either of validation/test\n",
        "assert \"train\" in data and {\"validation\", \"test\"}.intersection(data), \\\n",
        "f\"💾 The dataset {dataset_name} has either no train, or no validation or test splits, select another one.\"\n",
        "\n",
        "print(f\"\\n🏆 Dataset {dataset_name} loaded succesfully\")\n",
        "# A small function for minimizing the dataset for testing purposes\n",
        "import os\n",
        "\n",
        "def _minimize_for_ci() -> bool:\n",
        "    return os.getenv(\"MINIMIZE_FOR_CI\", \"false\") == \"true\""
      ]
    },
    {
      "cell_type": "markdown",
      "metadata": {},
      "source": [
        "## 2. Prepare dataset\n",
        "\n",
        "Galileo relies on PyTorch's DataLoader\n",
        "```python\n",
        "train_dataloader = DataLoader(train_ds, batch_size=BATCH_SIZE, shuffle=True)\n",
        "test_dataloader = DataLoader(test_ds, batch_size=BATCH_SIZE, shuffle=True)\n",
        "```\n",
        "\n"
      ]
    },
    {
      "cell_type": "code",
      "execution_count": null,
      "metadata": {},
      "outputs": [],
      "source": [
        "from transformers import AutoTokenizer\n",
        "from torch.utils.data import DataLoader\n",
        "BATCH_SIZE = 32\n",
        "\n",
        "data[\"train\"] = data[\"train\"].select(range(6000))\n",
        "data[\"test\"]  = data[\"test\"].select(range(1000))\n",
        "\n",
        "data = data.map(lambda x,idx : {\"id\":idx}, with_indices=True)\n",
        "tokenizer = AutoTokenizer.from_pretrained(\"distilbert-base-uncased\")\n",
        "\n",
        "def preprocess(row):\n",
        "  return tokenizer(row[\"text\"], padding=\"max_length\", truncation=True)\n",
        "\n",
        "encoded_data = data.map(preprocess, batched=True)\n",
        "dataloader_columns = [\"input_ids\",\"attention_mask\",\"label\"]\n",
        "train_ds = encoded_data[\"train\"].with_format(\"torch\", dataloader_columns)\n",
        "test_ds = encoded_data[\"test\"].with_format(\"torch\", dataloader_columns)\n",
        "\n",
        "train_dataloader = DataLoader(train_ds, batch_size=BATCH_SIZE, shuffle=True)\n",
        "test_dataloader = DataLoader(test_ds, batch_size=BATCH_SIZE, shuffle=True)\n",
        "\n",
        "clear_output()\n",
        "print(\"Preview of dataset:\")\n",
        "example_df = data[\"train\"].to_pandas().head()\n",
        "example_df[\"label\"] = example_df[\"label\"].map({\n",
        "    i:label\n",
        "    for i,label in enumerate(data[\"train\"].features[\"label\"].names)\n",
        "})\n",
        "example_df"
      ]
    },
    {
      "cell_type": "code",
      "execution_count": null,
      "metadata": {
        "cellView": "form",
        "id": "7-x62bqN4fxp"
      },
      "outputs": [],
      "source": [
        "#@markdown Convert HF dataset to Pandas dataframes \n",
        "import pandas as pd\n",
        "\n",
        "def load_pandas_df(data):\n",
        "  # Find the name of the ground truth column\n",
        "  good_col_names = [name for name in list(data['train'].features) if \"label\" in name]\n",
        "  if len(good_col_names) == 1:\n",
        "    label_col = good_col_names[0]\n",
        "  else:\n",
        "    col_names = list(data['train'].features)\n",
        "    print(f\"The name of the columns are {col_names}.\")\n",
        "    label_col = input(f\"🏅 Please enter the name of the column containing the labels: \")\n",
        "    assert label_col in col_names, f\"{label_col} is not an existing column\"\n",
        "\n",
        "  # Load the labels in a dictionary\n",
        "  labels = data['train'].features[label_col].names\n",
        "  labels = {v:k for v, k in enumerate(labels)}\n",
        "\n",
        "  # Load the train data into a frame\n",
        "  train_data = data[\"train\"]\n",
        "  train_df = pd.DataFrame.from_dict(train_data)\n",
        "  train_df['label'] = train_df[label_col].map(labels)\n",
        "  train_df['id'] = train_df.index\n",
        "\n",
        "  # Load the test data into a frame\n",
        "  test_split_name = \"validation\" if \"validation\" in data else \"test\"\n",
        "  test_data = data[test_split_name]\n",
        "  test_df = pd.DataFrame.from_dict(test_data)\n",
        "  test_df['label'] = test_df[label_col].map(labels)\n",
        "  test_df['id'] = test_df.index\n",
        "  \n",
        "  return train_df, test_df\n",
        "\n",
        "train_df, test_df = load_pandas_df(data)\n",
        "\n",
        "if _minimize_for_ci():\n",
        "  train_df = train_df[:10]\n",
        "  test_df = test_df[test_df.label.isin(train_df.label.unique())][:10]"
      ]
    },
    {
      "cell_type": "markdown",
      "metadata": {
        "id": "JK4QbyDcowqW"
      },
      "source": [
        "# 3. Prepare Training"
      ]
    },
    {
      "cell_type": "code",
      "execution_count": null,
      "metadata": {
        "id": "YJiw7WSWomHj"
      },
      "outputs": [],
      "source": [
        "import torch\n",
        "import torch.nn.functional as F\n",
        "from torch.nn import Linear\n",
        "from transformers import AutoModel\n",
        "import torchmetrics\n",
        "\n",
        "\n",
        "class TextClassificationModel(torch.nn.Module):\n",
        "    \"\"\"Defines a Pytorch text classification bert based model.\"\"\"\n",
        "\n",
        "    def __init__(self, num_labels: int):\n",
        "        super().__init__()\n",
        "        self.feature_extractor = AutoModel.from_pretrained(\"distilbert-base-uncased\")\n",
        "        self.classifier = Linear(self.feature_extractor.config.hidden_size, num_labels)\n",
        "\n",
        "    def forward(self, input_ids, attention_mask):\n",
        "        \"\"\"Model forward function.\"\"\"\n",
        "        encoded_layers = self.feature_extractor(\n",
        "            input_ids=input_ids, attention_mask=attention_mask\n",
        "        ).last_hidden_state\n",
        "        classification_embedding = encoded_layers[:, 0]\n",
        "        return self.classifier(classification_embedding)\n",
        "\n",
        "NUM_EPOCHS = 2\n",
        "model = TextClassificationModel(len(data['train'].features[\"label\"].names))\n",
        "optimizer = torch.optim.AdamW(\n",
        "    filter(lambda p: p.requires_grad, model.parameters()), lr=1e-5\n",
        ")\n",
        "\n",
        "device = torch.device(\"cuda\") if torch.cuda.is_available() else torch.device(\"cpu\")\n",
        "val_acc = torchmetrics.Accuracy().to(device)\n",
        "train_acc = torchmetrics.Accuracy().to(device)\n",
        "loss_fn = F.cross_entropy\n",
        "model.to(device)\n",
        "\n",
        "def train_loop(model,dataloader,optimizer,loss_fn):\n",
        "  model.train()\n",
        "  running_loss = 0.0\n",
        "  for batch in tqdm(dataloader):\n",
        "      # print statistics\n",
        "      x = batch.pop(\"input_ids\").to(device)\n",
        "      y = batch.pop(\"label\").to(device)\n",
        "      attention_mask = batch.pop(\"attention_mask\").to(device)\n",
        "      # zero the parameter gradients\n",
        "      optimizer.zero_grad()\n",
        "      # forward + backward + optimize\n",
        "      logits = model(x, attention_mask)\n",
        "      loss = loss_fn(logits, y)\n",
        "      loss.backward()\n",
        "      optimizer.step()\n",
        "      train_acc(logits.argmax(1), y)\n",
        "      running_loss += loss.item()\n",
        "\n",
        "def test_loop(model, dataloader, loss_fn):\n",
        "  model.eval()\n",
        "  validation_loss = 0.0\n",
        "  pbar = tqdm(dataloader)\n",
        "  for batch in pbar:\n",
        "    x = batch.pop(\"input_ids\").to(device)\n",
        "    y = batch.pop(\"label\").to(device)\n",
        "    attention_mask = batch.pop(\"attention_mask\").to(device)\n",
        "    with torch.no_grad():\n",
        "      logits = model(x, attention_mask)\n",
        "      loss = loss_fn(logits, y)\n",
        "    val_acc(logits.argmax(1), y)\n",
        "    validation_loss += loss.item()\n",
        "    pbar.set_description(\"[epoch %d] Validation loss: %.3f\" % (epoch + 1, validation_loss))\n",
        "  pbar.set_description(f\"Val accuracy: {val_acc.compute()}\")"
      ]
    },
    {
      "cell_type": "markdown",
      "metadata": {
        "id": "6zJHmvxTJ2pN"
      },
      "source": [
        "## 4. Monitor with Galileo\n",
        "\n",
        "After simply logging the orignal dataset with the following columns:\n",
        "```id,text,label```\n",
        "\n",
        "We can hook the dataquality client in our model and dataloaders.\n",
        "\n",
        "```python\n",
        "from dataquality.integrations.torch import watch\n",
        "watch(model, [train_dataloader, test_dataloader])\n",
        "```\n",
        "\n"
      ]
    },
    {
      "cell_type": "code",
      "execution_count": null,
      "metadata": {
        "id": "FX8KsPk_m6Au"
      },
      "outputs": [],
      "source": [
        "import dataquality as dq\n",
        "from dataquality.integrations.torch import watch\n",
        "# 🔭🌕 Logging the dataset with Galileo\n",
        "dq.log_dataset(data[\"train\"],\n",
        "               split=\"train\")\n",
        "\n",
        "# 🔭🌕 Logging the dataset with Galileo\n",
        "dq.log_dataset(data[\"test\"],\n",
        "               split=\"validation\")\n",
        "\n",
        "# 🔭🌕 Logging the dataset with Galileo\n",
        "dq.set_labels_for_run(data[\"train\"].features[\"label\"].names)\n",
        "# 🔭🌕 Monitor the model with Galileo\n",
        "watch(model, [train_dataloader, test_dataloader])"
      ]
    },
    {
      "cell_type": "markdown",
      "metadata": {
        "id": "nMV9XnJaSg9j"
      },
      "source": [
        "# 5. Training\n",
        "\n",
        "After hooking into the model we start the training process.\n",
        "For each split and epoch we call: ```dq.set_split(\"train\") or dq.set_epoch(epoch)```"
      ]
    },
    {
      "cell_type": "code",
      "execution_count": null,
      "metadata": {
        "id": "7kvfEg4cnzTZ"
      },
      "outputs": [],
      "source": [
        "from tqdm import tqdm\n",
        "for epoch in range(NUM_EPOCHS):\n",
        "    dq.set_epoch(epoch) # 🔭🌕 Setting the epoch\n",
        "    dq.set_split(\"training\") # 🔭🌕 Setting split to training\n",
        "    train_loop(model,train_dataloader,optimizer,loss_fn)\n",
        "    dq.set_split(\"validation\") # 🔭🌕 Setting split to validation\n",
        "    test_loop(model, test_dataloader, loss_fn)\n",
        "print(\"Finished Training\")"
      ]
    },
    {
      "cell_type": "markdown",
      "metadata": {
        "id": "PnEeJN1IyMl0"
      },
      "source": [
        "## 5. Finish and upload data\n",
        "\n",
        "Upload your training data with:\n",
        "```python\n",
        "dq.finish()\n",
        "```"
      ]
    },
    {
      "cell_type": "code",
      "execution_count": null,
      "metadata": {
        "id": "-lRIh9U7oL2V"
      },
      "outputs": [],
      "source": [
        "finished_run = dq.finish()\n",
        "clear_output()\n",
        "print(f\"Project link: {finished_run['link']}\")\n",
        "print(\"Preview of misclassified data\")\n",
        "dq.metrics.get_dataframe(project_name, run_name, \"train\").head()"
      ]
    },
    {
      "cell_type": "markdown",
      "metadata": {
        "id": "QkUoYnK0oFK_"
      },
      "source": [
        "# General Help and Docs\n",
        "- To get help with your task's requirements, call `dq.get_data_logger().doc()`\n",
        "- To see more general data and model logging docs, run `dq.docs()`"
      ]
    },
    {
      "cell_type": "code",
      "execution_count": null,
      "metadata": {
        "id": "V9o7ZwZVZIiM"
      },
      "outputs": [],
      "source": [
        "dq.get_data_logger().doc()\n",
        "help(dq.log_dataset)"
      ]
    }
  ],
  "metadata": {
    "accelerator": "GPU",
    "colab": {
      "collapsed_sections": [],
      "private_outputs": true,
      "provenance": [
        {
          "file_id": "1IQ99tSgicpVpCrkhjTp-Dp_f2ucBhvy3",
          "timestamp": 1659469611341
        }
      ]
    },
    "gpuClass": "standard",
    "kernelspec": {
      "display_name": "Python 3.9.13 ('base')",
      "language": "python",
      "name": "python3"
    },
    "language_info": {
      "codemirror_mode": {
        "name": "ipython",
        "version": 3
      },
      "file_extension": ".py",
      "mimetype": "text/x-python",
      "name": "python",
      "nbconvert_exporter": "python",
      "pygments_lexer": "ipython3",
      "version": "3.9.13"
    },
    "vscode": {
      "interpreter": {
        "hash": "a8822641e88d7c74114f38a155dc8686f9f41cc7c790ba54cfc07cc82201c3e7"
      }
    }
  },
  "nbformat": 4,
  "nbformat_minor": 0
}
