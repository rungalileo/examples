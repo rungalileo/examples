{
  "cells": [
    {
      "cell_type": "markdown",
      "metadata": {
        "id": "j5JVjGAAJOTn"
      },
      "source": [
        "# Text Classification using Keras and 🔭 Galileo\n",
        "\n",
        "In this tutorial, we'll train a model with Keras and explore the results in Galileo.\n",
        "\n",
        "**Make sure to select GPU in your Runtime! (Runtime -> Change Runtime type)**"
      ]
    },
    {
      "cell_type": "code",
      "execution_count": null,
      "metadata": {
        "cellView": "form",
        "id": "UfMcPbg19uz1"
      },
      "outputs": [],
      "source": [
        "#@title Install `dataquality` with `pip install dataquality`\n",
        "\n",
        "try:\n",
        "    import dataquality as dq\n",
        "except ImportError:\n",
        "    # Upgrade pip\n",
        "    !pip install -U pip &> /dev/null\n",
        "    # Install HF datasets for downloading the example datasets\n",
        "    !pip install -U dataquality datasets evaluate transformers 'tensorflow<2.11.0' &> /dev/null\n",
        "    \n",
        "    print('👋 Installed necessary libraries and restarting runtime! This should only need to happen once.')\n",
        "    print('🙏 Continue with the rest of the notebook or hit \"Run All\" again!')\n"
      ]
    },
    {
      "attachments": {},
      "cell_type": "markdown",
      "metadata": {
        "id": "YaoKpP9YR0UD"
      },
      "source": [
        "# 1. Initialize Galileo"
      ]
    },
    {
      "cell_type": "code",
      "execution_count": null,
      "metadata": {
        "id": "yT7HC1xdRnqh"
      },
      "outputs": [],
      "source": [
        "import dataquality as dq\n",
        "# 🔭🌕 Initializing a new run in Galileo. Each run goes under a project.\n",
        "dq.init(task_type=\"text_classification\", \n",
        "        project_name=\"text_classification_keras\", \n",
        "        run_name=f\"example_run_tc_keras_1\")"
      ]
    },
    {
      "cell_type": "markdown",
      "metadata": {
        "id": "dOKPfMhYvgeL"
      },
      "source": [
        "# 2. Load Data"
      ]
    },
    {
      "cell_type": "code",
      "execution_count": null,
      "metadata": {
        "cellView": "form",
        "id": "u3yKR4e9d3xa"
      },
      "outputs": [],
      "source": [
        "#@title 🤗 HuggingFace Dataset\n",
        "#@markdown You can find more datasets [here](https://huggingface.co/datasets?language=language:en&task_categories=task_categories:text-classification&task_ids=task_ids:multi-class-classification&sort=downloads).\n",
        "\n",
        "dataset_name = \"generalization/newsgroups_Full-p_1\" #@param [\"generalization/newsgroups_Full-p_1\", \"banking77\", \"emotion\", \"rungalileo/conv_intent\"] {allow-input: true}\n",
        "print(f\"You selected the {dataset_name} dataset\")\n",
        "\n",
        "from IPython.utils import io\n",
        "from datasets import load_dataset, get_dataset_config_names\n",
        "\n",
        "# Try to load the data. If a config (subset) is needed, pick one\n",
        "try:\n",
        "  with io.capture_output() as captured:\n",
        "    data = load_dataset(dataset_name)\n",
        "except ValueError as e:\n",
        "  if \"Config name is missing\" not in repr(e):\n",
        "    raise e\n",
        "\n",
        "  configs = get_dataset_config_names(dataset_name)\n",
        "  print(f\"The dataset {dataset_name} has multiple subsets {configs}.\")\n",
        "  config = input(f\"🖖 Enter the name of the subset to pick (or leave blank for any): \")\n",
        "  if config:\n",
        "    assert config in configs, f\"{config} is not a valid subset\"\n",
        "  else:\n",
        "    config = configs[0]\n",
        "  with io.capture_output() as captured:\n",
        "    data = load_dataset(dataset_name, name=config)\n",
        "\n",
        "# Check that the dataset has at least train and either of validation/test\n",
        "assert \"train\" in data and {\"validation\", \"test\"}.intersection(data), \\\n",
        "f\"💾 The dataset {dataset_name} has either no train, or no validation or test splits, select another one.\"\n",
        "\n",
        "print(f\"\\n🏆 Dataset {dataset_name} loaded succesfully\")\n",
        "\n",
        "# A small function for minimizing the dataset for testing purposes\n",
        "import os\n",
        "\n",
        "def _minimize_for_ci() -> bool:\n",
        "    return os.getenv(\"MINIMIZE_FOR_CI\", \"false\") == \"true\""
      ]
    },
    {
      "cell_type": "code",
      "execution_count": null,
      "metadata": {
        "cellView": "form",
        "id": "4VrA5uAaRvJ7"
      },
      "outputs": [],
      "source": [
        "#@markdown Convert HF dataset to Pandas dataframes \n",
        "import pandas as pd\n",
        "\n",
        "def load_pandas_df(data):\n",
        "  # Find the name of the ground truth column\n",
        "  good_col_names = [name for name in list(data['train'].features) if \"label\" in name]\n",
        "  if len(good_col_names) == 1:\n",
        "    label_col = good_col_names[0]\n",
        "  else:\n",
        "    col_names = list(data['train'].features)\n",
        "    print(f\"The name of the columns are {col_names}.\")\n",
        "    label_col = input(f\"🏅 Please enter the name of the column containing the labels: \")\n",
        "    assert label_col in col_names, f\"{label_col} is not an existing column\"\n",
        "\n",
        "  # Load the labels in a dictionary\n",
        "  labels = data['train'].features[label_col].names\n",
        "  labels = {v:k for v, k in enumerate(labels)}\n",
        "\n",
        "  # Load the train data into a frame\n",
        "  train_data = data[\"train\"]\n",
        "  train_df = pd.DataFrame.from_dict(train_data)\n",
        "  train_df['label'] = train_df[label_col].map(labels)\n",
        "  train_df['id'] = train_df.index\n",
        "\n",
        "  # Load the test data into a frame\n",
        "  test_split_name = \"validation\" if \"validation\" in data else \"test\"\n",
        "  test_data = data[test_split_name]\n",
        "  test_df = pd.DataFrame.from_dict(test_data)\n",
        "  test_df['label'] = test_df[label_col].map(labels)\n",
        "  test_df['id'] = test_df.index\n",
        "\n",
        "  return train_df, test_df\n",
        "\n",
        "train_df, test_df = load_pandas_df(data)\n",
        "labels = train_df.label.unique().tolist()\n",
        "\n",
        "if _minimize_for_ci():\n",
        "  train_df = train_df[:10]\n",
        "  labels = train_df.label.unique().tolist()\n",
        "  test_df = test_df[test_df.label.isin(train_df.label.unique())][:10]"
      ]
    },
    {
      "attachments": {},
      "cell_type": "markdown",
      "metadata": {
        "id": "6zJHmvxTJ2pN"
      },
      "source": [
        "# 3. Log input data with Galileo\n",
        "Input data can be logged via `log_data_samples` (or `log_dataset` for logging iterables). This step will log input samples, gold labels, data split, and list of all labels. You can achieve this by adding 1 line of code to the standard PyTorch Dataset Class."
      ]
    },
    {
      "cell_type": "code",
      "execution_count": null,
      "metadata": {
        "id": "Wj6CndQGDjgs"
      },
      "outputs": [],
      "source": [
        "from transformers import AutoTokenizer\n",
        "import tensorflow as tf\n",
        "from tensorflow.keras.utils import to_categorical\n",
        "from dataquality.integrations.keras import add_sample_ids\n",
        "\n",
        "# 🔭🌕 Logging the dataset with Galileo\n",
        "dq.log_dataset(train_df, split=\"training\")\n",
        "dq.log_dataset(test_df, split=\"test\")\n",
        "\n",
        "# 🔭🌕 Registering the list of labels for the run\n",
        "dq.set_labels_for_run(labels)\n",
        "\n",
        "# Fix batch size (newsgroups20 requires small batch_size to avoid OOM)\n",
        "BATCH_SIZE = 4\n",
        "\n",
        "# Tokenize inputs, get attention mask and create train and test datasets\n",
        "MAX_LENGTH = max(train_df.text.str.split().apply(len).max(), \n",
        "                 test_df.text.str.split().apply(len).max())\n",
        "MAX_LENGTH = min(MAX_LENGTH, 512)\n",
        "\n",
        "tokenizer = AutoTokenizer.from_pretrained(\"distilbert-base-uncased\")\n",
        "datasets = []\n",
        "for df in [train_df, test_df]:\n",
        "  inputs = tokenizer(df.text.to_list(), truncation=True, padding = \"max_length\", max_length=MAX_LENGTH, return_tensors = \"np\")\n",
        "  inputs[\"input_ids\"] = add_sample_ids(inputs[\"input_ids\"], df.id.values)\n",
        "\n",
        "  # Get our label index for model training\n",
        "  input_labels = to_categorical([labels.index(label) for label in df.label])\n",
        "  dataset = tf.data.Dataset.from_tensor_slices((dict(inputs), input_labels)).batch(BATCH_SIZE)\n",
        "  datasets.append(dataset)\n",
        "\n",
        "train_ds, test_ds = datasets"
      ]
    },
    {
      "attachments": {},
      "cell_type": "markdown",
      "metadata": {
        "id": "nMV9XnJaSg9j"
      },
      "source": [
        "# 4. Log Keras model data with Galileo\n",
        "\n",
        "Model data can be logged via a `DataQualityLoggingLayer`. This step will log the model probabilitiy and embeddings. You can achieve this by adding the following line of code to Keras sequential nodel. "
      ]
    },
    {
      "cell_type": "code",
      "execution_count": null,
      "metadata": {
        "id": "7kvfEg4cnzTZ"
      },
      "outputs": [],
      "source": [
        "from dataquality.integrations.keras import DataQualityLoggingLayer\n",
        "from transformers import TFAutoModel\n",
        "from tensorflow import keras\n",
        "\n",
        "def build_model(max_len=512):\n",
        "    input_word_ids = tf.keras.Input(shape=(max_len+1,), dtype=tf.int32, name=\"input_ids\")\n",
        "    attn_mask = tf.keras.Input(shape=(max_len,), dtype=tf.int32, name=\"attention_mask\")\n",
        "    input_words = DataQualityLoggingLayer(\"ids\")(input_word_ids) # 🌕🔭 Galileo - log the ids\n",
        "    \n",
        "    bert = TFAutoModel.from_pretrained('distilbert-base-uncased')\n",
        "    bert_outputs = bert(input_ids=input_words, attention_mask=attn_mask)\n",
        "    last_hidden_states = bert_outputs.last_hidden_state\n",
        "    clf_output = last_hidden_states[:, 0, :] # CLS token \n",
        "    clf_output = DataQualityLoggingLayer(\"embs\")(clf_output) # 🌕🔭 Galileo - log the embeddings\n",
        "    outputs = tf.keras.layers.Dense(len(labels), activation='softmax')(clf_output)\n",
        "    outputs = DataQualityLoggingLayer(\"probs\")(outputs) # 🌕🔭 Galileo - log the probabilities\n",
        "\n",
        "    model = tf.keras.models.Model(inputs=[input_word_ids, attn_mask], outputs=outputs)\n",
        "\n",
        "    model.compile(loss=\"categorical_crossentropy\", \n",
        "              optimizer=tf.keras.optimizers.Adam(1e-5), \n",
        "              metrics=[\"accuracy\"], \n",
        "              run_eagerly=True) # 🌕🔭 Galileo - set run_eagerly to True!!\n",
        "\n",
        "    return model "
      ]
    },
    {
      "attachments": {},
      "cell_type": "markdown",
      "metadata": {
        "id": "PnEeJN1IyMl0"
      },
      "source": [
        "# 5. Putting into Action: Training a Model\n",
        "\n",
        "We complete the training pipeline by using a standard PyTorch training setup. While training, we log the current `epoch` and `split`. To complete logging, we call `dq.finish()` after training."
      ]
    },
    {
      "cell_type": "code",
      "execution_count": null,
      "metadata": {
        "id": "-lRIh9U7oL2V"
      },
      "outputs": [],
      "source": [
        "from dataquality.integrations.keras import DataQualityCallback\n",
        "\n",
        "epochs = 2\n",
        "\n",
        "model = build_model(MAX_LENGTH)\n",
        "\n",
        "model.fit(train_ds,\n",
        "          batch_size=BATCH_SIZE, \n",
        "          epochs=epochs,\n",
        "          validation_data=test_ds,\n",
        "          callbacks=[DataQualityCallback()], # 🌕🔭 Galileo\n",
        "          ) \n",
        "\n",
        "dq.finish() # 🔭🌕 Complete the Galileo workflow with a call to dq.finish()"
      ]
    },
    {
      "cell_type": "markdown",
      "metadata": {
        "id": "QkUoYnK0oFK_"
      },
      "source": [
        "# General Help and Docs\n",
        "- To get help with your task's requirements, call `dq.get_data_logger().doc()`\n",
        "- To see more general data and model logging docs, run `dq.docs()`"
      ]
    },
    {
      "cell_type": "code",
      "execution_count": null,
      "metadata": {
        "collapsed": true,
        "id": "V9o7ZwZVZIiM"
      },
      "outputs": [],
      "source": [
        "dq.get_data_logger().doc()\n",
        "help(dq.log_dataset)"
      ]
    }
  ],
  "metadata": {
    "accelerator": "GPU",
    "colab": {
      "collapsed_sections": [],
      "private_outputs": true,
      "provenance": [
        {
          "file_id": "1BbDRcpRWxd5oWrbx_dRG_U6aP81VMrqQ",
          "timestamp": 1664299290014
        },
        {
          "file_id": "15XfRQXajEwTu05teVC4oSDw4aadv6T6I",
          "timestamp": 1664298605767
        },
        {
          "file_id": "1IQ99tSgicpVpCrkhjTp-Dp_f2ucBhvy3",
          "timestamp": 1659469611341
        }
      ]
    },
    "gpuClass": "standard",
    "kernelspec": {
      "display_name": "Python 3.9.13 ('base')",
      "language": "python",
      "name": "python3"
    },
    "language_info": {
      "name": "python",
      "version": "3.9.13"
    },
    "vscode": {
      "interpreter": {
        "hash": "a8822641e88d7c74114f38a155dc8686f9f41cc7c790ba54cfc07cc82201c3e7"
      }
    }
  },
  "nbformat": 4,
  "nbformat_minor": 0
}
