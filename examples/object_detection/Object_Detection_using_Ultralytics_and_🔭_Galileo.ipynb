{
  "cells": [
    {
      "attachments": {},
      "cell_type": "markdown",
      "metadata": {
        "id": "lb4-As3Vzy3-"
      },
      "source": [
        "# Object Detection using Ultralytics and 🔭 Galileo\n",
        "\n",
        "In this tutorial, we'll train a model with the Ultralytics CLI and explore the results in Galileo.\n",
        "\n",
        "**Make sure to select GPU in your Runtime! (Runtime -> Change Runtime type)**"
      ]
    },
    {
      "attachments": {},
      "cell_type": "markdown",
      "metadata": {
        "id": "wnR3djUE3ou4"
      },
      "source": [
        "# 1. Install dataquality and ultralytics"
      ]
    },
    {
      "cell_type": "code",
      "execution_count": null,
      "metadata": {
        "id": "Q5Kuo3li3tPX"
      },
      "outputs": [],
      "source": [
        "!pip install -U dataquality ultralytics &> /dev/null\n",
        "print('👋 Installed necessary libraries!')"
      ]
    },
    {
      "cell_type": "code",
      "execution_count": null,
      "metadata": {
        "cellView": "form",
        "id": "24on8UK6z54c"
      },
      "outputs": [],
      "source": [
        "#@markdown Check that a GPU is available\n",
        "\n",
        "import torch\n",
        "# Check Cuda.\n",
        "if torch.cuda.is_available():\n",
        "  print(\"⚡ You are connected to a GPU!\")\n",
        "else:\n",
        "  print(\"❗You are NOT connected to a GPU ❗It is recommended to connect to a GPU before training\")"
      ]
    },
    {
      "attachments": {},
      "cell_type": "markdown",
      "metadata": {
        "id": "fmMVwoD50GfI"
      },
      "source": [
        "# 2. Download Your Data\n",
        "\n",
        "Download your data and set it up in YOLO format in this environment. In this example we will use the publicly available SODA datasert hosted remotely in our cloud."
      ]
    },
    {
      "cell_type": "code",
      "execution_count": null,
      "metadata": {
        "cellView": "form",
        "id": "nYFArlNM7viy"
      },
      "outputs": [],
      "source": [
        "#@title Download a Dataset hosted by Galileo\n",
        "\n",
        "dataset_name = \"soda\" #@param [\"soda\", \"coco-validation\"] {allow-input: true}\n",
        "\n",
        "if dataset_name == \"soda\":\n",
        "  archive_name = \"soda+bottles.v4-release.yolov8.zip\"\n",
        "elif dataset_name == \"coco-validation\":\n",
        "  archive_name = \"coco-val2017.zip\"\n",
        "\n",
        "# Create the content folder if we're in CI\n",
        "!mkdir datasets\n",
        "!wget https://galileo-s3os-images.s3.amazonaws.com/{archive_name} -O datasets/dataset.zip\n",
        "!unzip datasets/dataset.zip -d datasets\n",
        "\n",
        "\n",
        "import os\n",
        "if os.getenv(\"MINIMIZE_FOR_CI\", \"false\") == \"true\":\n",
        "  # Downsample the dataset (tailored for SODA)\n",
        "  from pathlib import Path\n",
        "  import shutil\n",
        "\n",
        "  train_dir = Path(\"datasets/train\")\n",
        "  train_dir_images = train_dir / \"images\"\n",
        "  train_dir_labels = train_dir / \"labels\"\n",
        "\n",
        "  train_dir_tiny = Path(\"datasets/train_tiny\")\n",
        "  train_dir_images_tiny = train_dir_tiny / \"images\"\n",
        "  train_dir_labels_tiny = train_dir_tiny / \"labels\"\n",
        "  \n",
        "  os.makedirs(train_dir_tiny, exist_ok=True)\n",
        "  os.makedirs(train_dir_images_tiny, exist_ok=True)\n",
        "  os.makedirs(train_dir_labels_tiny, exist_ok=True)\n",
        "\n",
        "  image_names = [imm for imm in os.listdir(train_dir_images) if imm.endswith(\".jpg\")]\n",
        "  print(f\"Found {len(image_names)} image names\")\n",
        "  image_names = image_names[:int(len(image_names) * 0.1)]\n",
        "\n",
        "  for image_name in image_names:\n",
        "    shutil.copy(train_dir_images / image_name, train_dir_images_tiny / image_name)\n",
        "    text_name = image_name.replace('.jpg', '.txt')\n",
        "    shutil.copy(train_dir_labels / text_name, train_dir_labels_tiny / text_name)\n",
        "\n",
        "  # Update the Yaml file\n",
        "  import yaml\n",
        "  yaml_path = \"datasets/data.yaml\"\n",
        "  with open(yaml_path) as f:\n",
        "      data_yaml = yaml.safe_load(f)\n",
        "\n",
        "  data_yaml[\"train\"] = data_yaml[\"train\"].replace(\"train\", \"train_tiny\")\n",
        "  data_yaml[\"val\"] = data_yaml[\"train\"]\n",
        "  data_yaml[\"bucket_val\"] = data_yaml[\"bucket_train\"]\n",
        "\n",
        "  with open(yaml_path, \"w\") as f:\n",
        "      yaml.dump(data_yaml, f)\n"
      ]
    },
    {
      "attachments": {},
      "cell_type": "markdown",
      "metadata": {
        "id": "HgXg9CFA2obA"
      },
      "source": [
        "# 3. Set your environment variables and train with Galileo!"
      ]
    },
    {
      "cell_type": "code",
      "execution_count": null,
      "metadata": {
        "id": "Il4u0IZ40LlT"
      },
      "outputs": [],
      "source": [
        "# 🔭🌕 To avoid getting prompted during the execution of dqyolo, set your credentials by uncommenting and populating the below variables.\n",
        "\n",
        "%env GALILEO_PROJECT_NAME = object-detection-demo\n",
        "%env GALILEO_RUN_NAME = soda_demo_run\n",
        "# %env GALILEO_CONSOLE_URL = \n",
        "# %env GALILEO_USERNAME = \n",
        "# %env GALILEO_PASSWORD = "
      ]
    },
    {
      "cell_type": "code",
      "execution_count": null,
      "metadata": {
        "id": "5PIFs7b10LhU"
      },
      "outputs": [],
      "source": [
        "# 🔭🌕 Start training with Galileo!\n",
        "!dqyolo detect train model=yolov8x data=datasets/data.yaml epochs=3 optimizer=SGD"
      ]
    }
  ],
  "metadata": {
    "accelerator": "GPU",
    "colab": {
      "gpuType": "V100",
      "machine_shape": "hm",
      "provenance": []
    },
    "gpuClass": "standard",
    "kernelspec": {
      "display_name": "Python 3",
      "name": "python3"
    },
    "language_info": {
      "name": "python"
    }
  },
  "nbformat": 4,
  "nbformat_minor": 0
}
